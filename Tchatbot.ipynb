{
  "nbformat": 4,
  "nbformat_minor": 0,
  "metadata": {
    "colab": {
      "name": "Tchatbot.ipynb",
      "provenance": [],
      "collapsed_sections": [],
      "authorship_tag": "ABX9TyNyDtk8lctZXiL7ejhPZ+8U",
      "include_colab_link": true
    },
    "kernelspec": {
      "name": "python3",
      "display_name": "Python 3"
    },
    "language_info": {
      "name": "python"
    },
    "accelerator": "GPU"
  },
  "cells": [
    {
      "cell_type": "markdown",
      "metadata": {
        "id": "view-in-github",
        "colab_type": "text"
      },
      "source": [
        "<a href=\"https://colab.research.google.com/github/VriskaSerket51/idbot/blob/main/Tchatbot.ipynb\" target=\"_parent\"><img src=\"https://colab.research.google.com/assets/colab-badge.svg\" alt=\"Open In Colab\"/></a>"
      ]
    },
    {
      "cell_type": "code",
      "execution_count": 1,
      "metadata": {
        "id": "09XymopAzIZF"
      },
      "outputs": [],
      "source": [
        "import pandas as pd\n",
        "import numpy as np\n",
        "import matplotlib.pyplot as plt\n",
        "import re\n",
        "import urllib.request\n",
        "import time\n",
        "import tensorflow_datasets as tfds\n",
        "import tensorflow as tf\n",
        "from tensorflow import keras\n",
        "from tensorflow.keras import layers"
      ]
    },
    {
      "cell_type": "markdown",
      "source": [
        "# 트랜스포머 구현"
      ],
      "metadata": {
        "id": "zkT9e_9E5uQ1"
      }
    },
    {
      "cell_type": "code",
      "source": [
        "class PositionalEncoding(tf.keras.layers.Layer):\n",
        "  def __init__(self, position, d_model):\n",
        "    super(PositionalEncoding, self).__init__()\n",
        "    self.pos_encoding = self.positional_encoding(position, d_model)\n",
        "\n",
        "  def get_angles(self, position, i, d_model):\n",
        "    angles = 1 / tf.pow(10000, (2 * (i // 2)) / tf.cast(d_model, tf.float32))\n",
        "    return position * angles\n",
        "\n",
        "  def positional_encoding(self, position, d_model):\n",
        "    angle_rads = self.get_angles(\n",
        "        position=tf.range(position, dtype=tf.float32)[:, tf.newaxis],\n",
        "        i=tf.range(d_model, dtype=tf.float32)[tf.newaxis, :],\n",
        "        d_model=d_model)\n",
        "\n",
        "    # 배열의 짝수 인덱스(2i)에는 사인 함수 적용\n",
        "    sines = tf.math.sin(angle_rads[:, 0::2])\n",
        "\n",
        "    # 배열의 홀수 인덱스(2i+1)에는 코사인 함수 적용\n",
        "    cosines = tf.math.cos(angle_rads[:, 1::2])\n",
        "\n",
        "    angle_rads = np.zeros(angle_rads.shape)\n",
        "    angle_rads[:, 0::2] = sines\n",
        "    angle_rads[:, 1::2] = cosines\n",
        "    pos_encoding = tf.constant(angle_rads)\n",
        "    pos_encoding = pos_encoding[tf.newaxis, ...]\n",
        "\n",
        "    print(pos_encoding.shape)\n",
        "    return tf.cast(pos_encoding, tf.float32)\n",
        "\n",
        "  def call(self, inputs):\n",
        "    return inputs + self.pos_encoding[:, :tf.shape(inputs)[1], :]"
      ],
      "metadata": {
        "id": "TJA7DHqR7IaR"
      },
      "execution_count": 2,
      "outputs": []
    },
    {
      "cell_type": "code",
      "source": [
        "def scaled_dot_product_attention(query, key, value, mask):\n",
        "  # query 크기 : (batch_size, num_heads, query의 문장 길이, d_model/num_heads)\n",
        "  # key 크기 : (batch_size, num_heads, key의 문장 길이, d_model/num_heads)\n",
        "  # value 크기 : (batch_size, num_heads, value의 문장 길이, d_model/num_heads)\n",
        "  # padding_mask : (batch_size, 1, 1, key의 문장 길이)\n",
        "\n",
        "  # Q와 K의 곱. 어텐션 스코어 행렬.\n",
        "  matmul_qk = tf.matmul(query, key, transpose_b=True)\n",
        "\n",
        "  # 스케일링\n",
        "  # dk의 루트값으로 나눠준다.\n",
        "  depth = tf.cast(tf.shape(key)[-1], tf.float32)\n",
        "  logits = matmul_qk / tf.math.sqrt(depth)\n",
        "\n",
        "  # 마스킹. 어텐션 스코어 행렬의 마스킹 할 위치에 매우 작은 음수값을 넣는다.\n",
        "  # 매우 작은 값이므로 소프트맥스 함수를 지나면 행렬의 해당 위치의 값은 0이 된다.\n",
        "  if mask is not None:\n",
        "    logits += (mask * -1e9)\n",
        "\n",
        "  # 소프트맥스 함수는 마지막 차원인 key의 문장 길이 방향으로 수행된다.\n",
        "  # attention weight : (batch_size, num_heads, query의 문장 길이, key의 문장 길이)\n",
        "  attention_weights = tf.nn.softmax(logits, axis=-1)\n",
        "\n",
        "  # output : (batch_size, num_heads, query의 문장 길이, d_model/num_heads)\n",
        "  output = tf.matmul(attention_weights, value)\n",
        "\n",
        "  return output, attention_weights"
      ],
      "metadata": {
        "id": "nQI6fqMR7NRv"
      },
      "execution_count": 3,
      "outputs": []
    },
    {
      "cell_type": "code",
      "source": [
        "class MultiHeadAttention(tf.keras.layers.Layer):\n",
        "\n",
        "  def __init__(self, d_model, num_heads, name=\"multi_head_attention\"):\n",
        "    super(MultiHeadAttention, self).__init__(name=name)\n",
        "    self.num_heads = num_heads\n",
        "    self.d_model = d_model\n",
        "\n",
        "    assert d_model % self.num_heads == 0\n",
        "\n",
        "    # d_model을 num_heads로 나눈 값.\n",
        "    # 논문 기준 : 64\n",
        "    self.depth = d_model // self.num_heads\n",
        "\n",
        "    # WQ, WK, WV에 해당하는 밀집층 정의\n",
        "    self.query_dense = tf.keras.layers.Dense(units=d_model)\n",
        "    self.key_dense = tf.keras.layers.Dense(units=d_model)\n",
        "    self.value_dense = tf.keras.layers.Dense(units=d_model)\n",
        "\n",
        "    # WO에 해당하는 밀집층 정의\n",
        "    self.dense = tf.keras.layers.Dense(units=d_model)\n",
        "\n",
        "  # num_heads 개수만큼 q, k, v를 split하는 함수\n",
        "  def split_heads(self, inputs, batch_size):\n",
        "    inputs = tf.reshape(\n",
        "        inputs, shape=(batch_size, -1, self.num_heads, self.depth))\n",
        "    return tf.transpose(inputs, perm=[0, 2, 1, 3])\n",
        "\n",
        "  def call(self, inputs):\n",
        "    query, key, value, mask = inputs['query'], inputs['key'], inputs[\n",
        "        'value'], inputs['mask']\n",
        "    batch_size = tf.shape(query)[0]\n",
        "\n",
        "    # 1. WQ, WK, WV에 해당하는 밀집층 지나기\n",
        "    # q : (batch_size, query의 문장 길이, d_model)\n",
        "    # k : (batch_size, key의 문장 길이, d_model)\n",
        "    # v : (batch_size, value의 문장 길이, d_model)\n",
        "    # 참고) 인코더(k, v)-디코더(q) 어텐션에서는 query 길이와 key, value의 길이는 다를 수 있다.\n",
        "    query = self.query_dense(query)\n",
        "    key = self.key_dense(key)\n",
        "    value = self.value_dense(value)\n",
        "\n",
        "    # 2. 헤드 나누기\n",
        "    # q : (batch_size, num_heads, query의 문장 길이, d_model/num_heads)\n",
        "    # k : (batch_size, num_heads, key의 문장 길이, d_model/num_heads)\n",
        "    # v : (batch_size, num_heads, value의 문장 길이, d_model/num_heads)\n",
        "    query = self.split_heads(query, batch_size)\n",
        "    key = self.split_heads(key, batch_size)\n",
        "    value = self.split_heads(value, batch_size)\n",
        "\n",
        "    # 3. 스케일드 닷 프로덕트 어텐션. 앞서 구현한 함수 사용.\n",
        "    # (batch_size, num_heads, query의 문장 길이, d_model/num_heads)\n",
        "    scaled_attention, _ = scaled_dot_product_attention(query, key, value, mask)\n",
        "    # (batch_size, query의 문장 길이, num_heads, d_model/num_heads)\n",
        "    scaled_attention = tf.transpose(scaled_attention, perm=[0, 2, 1, 3])\n",
        "\n",
        "    # 4. 헤드 연결(concatenate)하기\n",
        "    # (batch_size, query의 문장 길이, d_model)\n",
        "    concat_attention = tf.reshape(scaled_attention,\n",
        "                                  (batch_size, -1, self.d_model))\n",
        "\n",
        "    # 5. WO에 해당하는 밀집층 지나기\n",
        "    # (batch_size, query의 문장 길이, d_model)\n",
        "    outputs = self.dense(concat_attention)\n",
        "\n",
        "    return outputs"
      ],
      "metadata": {
        "id": "Ijou3ln56ECa"
      },
      "execution_count": 4,
      "outputs": []
    },
    {
      "cell_type": "code",
      "source": [
        "def encoder_layer(dff, d_model, num_heads, dropout, name=\"encoder_layer\"):\n",
        "  inputs = tf.keras.Input(shape=(None, d_model), name=\"inputs\")\n",
        "\n",
        "  # 인코더는 패딩 마스크 사용\n",
        "  padding_mask = tf.keras.Input(shape=(1, 1, None), name=\"padding_mask\")\n",
        "\n",
        "  # 멀티-헤드 어텐션 (첫번째 서브층 / 셀프 어텐션)\n",
        "  attention = MultiHeadAttention(\n",
        "      d_model, num_heads, name=\"attention\")({\n",
        "          'query': inputs, 'key': inputs, 'value': inputs, # Q = K = V\n",
        "          'mask': padding_mask # 패딩 마스크 사용\n",
        "      })\n",
        "\n",
        "  # 드롭아웃 + 잔차 연결과 층 정규화\n",
        "  attention = tf.keras.layers.Dropout(rate=dropout)(attention)\n",
        "  attention = tf.keras.layers.LayerNormalization(\n",
        "      epsilon=1e-6)(inputs + attention)\n",
        "\n",
        "  # 포지션 와이즈 피드 포워드 신경망 (두번째 서브층)\n",
        "  outputs = tf.keras.layers.Dense(units=dff, activation='relu')(attention)\n",
        "  outputs = tf.keras.layers.Dense(units=d_model)(outputs)\n",
        "\n",
        "  # 드롭아웃 + 잔차 연결과 층 정규화\n",
        "  outputs = tf.keras.layers.Dropout(rate=dropout)(outputs)\n",
        "  outputs = tf.keras.layers.LayerNormalization(\n",
        "      epsilon=1e-6)(attention + outputs)\n",
        "\n",
        "  return tf.keras.Model(\n",
        "      inputs=[inputs, padding_mask], outputs=outputs, name=name)"
      ],
      "metadata": {
        "id": "75QzNchq5yz5"
      },
      "execution_count": 5,
      "outputs": []
    },
    {
      "cell_type": "code",
      "source": [
        "def encoder(vocab_size, num_layers, dff,\n",
        "            d_model, num_heads, dropout,\n",
        "            name=\"encoder\"):\n",
        "  inputs = tf.keras.Input(shape=(None,), name=\"inputs\")\n",
        "\n",
        "  # 인코더는 패딩 마스크 사용\n",
        "  padding_mask = tf.keras.Input(shape=(1, 1, None), name=\"padding_mask\")\n",
        "\n",
        "  # 포지셔널 인코딩 + 드롭아웃\n",
        "  embeddings = tf.keras.layers.Embedding(vocab_size, d_model)(inputs)\n",
        "  embeddings *= tf.math.sqrt(tf.cast(d_model, tf.float32))\n",
        "  embeddings = PositionalEncoding(vocab_size, d_model)(embeddings)\n",
        "  outputs = tf.keras.layers.Dropout(rate=dropout)(embeddings)\n",
        "\n",
        "  # 인코더를 num_layers개 쌓기\n",
        "  for i in range(num_layers):\n",
        "    outputs = encoder_layer(dff=dff, d_model=d_model, num_heads=num_heads,\n",
        "        dropout=dropout, name=\"encoder_layer_{}\".format(i),\n",
        "    )([outputs, padding_mask])\n",
        "\n",
        "  return tf.keras.Model(\n",
        "      inputs=[inputs, padding_mask], outputs=outputs, name=name)"
      ],
      "metadata": {
        "id": "6N8Cfisr6GJD"
      },
      "execution_count": 6,
      "outputs": []
    },
    {
      "cell_type": "code",
      "source": [
        "def decoder_layer(dff, d_model, num_heads, dropout, name=\"decoder_layer\"):\n",
        "  inputs = tf.keras.Input(shape=(None, d_model), name=\"inputs\")\n",
        "  enc_outputs = tf.keras.Input(shape=(None, d_model), name=\"encoder_outputs\")\n",
        "\n",
        "  # 룩어헤드 마스크(첫번째 서브층)\n",
        "  look_ahead_mask = tf.keras.Input(\n",
        "      shape=(1, None, None), name=\"look_ahead_mask\")\n",
        "\n",
        "  # 패딩 마스크(두번째 서브층)\n",
        "  padding_mask = tf.keras.Input(shape=(1, 1, None), name='padding_mask')\n",
        "\n",
        "  # 멀티-헤드 어텐션 (첫번째 서브층 / 마스크드 셀프 어텐션)\n",
        "  attention1 = MultiHeadAttention(\n",
        "      d_model, num_heads, name=\"attention_1\")(inputs={\n",
        "          'query': inputs, 'key': inputs, 'value': inputs, # Q = K = V\n",
        "          'mask': look_ahead_mask # 룩어헤드 마스크\n",
        "      })\n",
        "\n",
        "  # 잔차 연결과 층 정규화\n",
        "  attention1 = tf.keras.layers.LayerNormalization(\n",
        "      epsilon=1e-6)(attention1 + inputs)\n",
        "\n",
        "  # 멀티-헤드 어텐션 (두번째 서브층 / 디코더-인코더 어텐션)\n",
        "  attention2 = MultiHeadAttention(\n",
        "      d_model, num_heads, name=\"attention_2\")(inputs={\n",
        "          'query': attention1, 'key': enc_outputs, 'value': enc_outputs, # Q != K = V\n",
        "          'mask': padding_mask # 패딩 마스크\n",
        "      })\n",
        "\n",
        "  # 드롭아웃 + 잔차 연결과 층 정규화\n",
        "  attention2 = tf.keras.layers.Dropout(rate=dropout)(attention2)\n",
        "  attention2 = tf.keras.layers.LayerNormalization(\n",
        "      epsilon=1e-6)(attention2 + attention1)\n",
        "\n",
        "  # 포지션 와이즈 피드 포워드 신경망 (세번째 서브층)\n",
        "  outputs = tf.keras.layers.Dense(units=dff, activation='relu')(attention2)\n",
        "  outputs = tf.keras.layers.Dense(units=d_model)(outputs)\n",
        "\n",
        "  # 드롭아웃 + 잔차 연결과 층 정규화\n",
        "  outputs = tf.keras.layers.Dropout(rate=dropout)(outputs)\n",
        "  outputs = tf.keras.layers.LayerNormalization(\n",
        "      epsilon=1e-6)(outputs + attention2)\n",
        "\n",
        "  return tf.keras.Model(\n",
        "      inputs=[inputs, enc_outputs, look_ahead_mask, padding_mask],\n",
        "      outputs=outputs,\n",
        "      name=name)"
      ],
      "metadata": {
        "id": "iawI1xX16Obm"
      },
      "execution_count": 7,
      "outputs": []
    },
    {
      "cell_type": "code",
      "source": [
        "def decoder(vocab_size, num_layers, dff,\n",
        "            d_model, num_heads, dropout,\n",
        "            name='decoder'):\n",
        "  inputs = tf.keras.Input(shape=(None,), name='inputs')\n",
        "  enc_outputs = tf.keras.Input(shape=(None, d_model), name='encoder_outputs')\n",
        "\n",
        "  # 디코더는 룩어헤드 마스크(첫번째 서브층)와 패딩 마스크(두번째 서브층) 둘 다 사용.\n",
        "  look_ahead_mask = tf.keras.Input(\n",
        "      shape=(1, None, None), name='look_ahead_mask')\n",
        "  padding_mask = tf.keras.Input(shape=(1, 1, None), name='padding_mask')\n",
        "\n",
        "  # 포지셔널 인코딩 + 드롭아웃\n",
        "  embeddings = tf.keras.layers.Embedding(vocab_size, d_model)(inputs)\n",
        "  embeddings *= tf.math.sqrt(tf.cast(d_model, tf.float32))\n",
        "  embeddings = PositionalEncoding(vocab_size, d_model)(embeddings)\n",
        "  outputs = tf.keras.layers.Dropout(rate=dropout)(embeddings)\n",
        "\n",
        "  # 디코더를 num_layers개 쌓기\n",
        "  for i in range(num_layers):\n",
        "    outputs = decoder_layer(dff=dff, d_model=d_model, num_heads=num_heads,\n",
        "        dropout=dropout, name='decoder_layer_{}'.format(i),\n",
        "    )(inputs=[outputs, enc_outputs, look_ahead_mask, padding_mask])\n",
        "\n",
        "  return tf.keras.Model(\n",
        "      inputs=[inputs, enc_outputs, look_ahead_mask, padding_mask],\n",
        "      outputs=outputs,\n",
        "      name=name)"
      ],
      "metadata": {
        "id": "mN0FF5yE6bvZ"
      },
      "execution_count": 8,
      "outputs": []
    },
    {
      "cell_type": "code",
      "source": [
        "def create_padding_mask(x):\n",
        "  mask = tf.cast(tf.math.equal(x, 0), tf.float32)\n",
        "  # (batch_size, 1, 1, key의 문장 길이)\n",
        "  return mask[:, tf.newaxis, tf.newaxis, :]"
      ],
      "metadata": {
        "id": "M8pmff1a6wBm"
      },
      "execution_count": 9,
      "outputs": []
    },
    {
      "cell_type": "code",
      "source": [
        "def create_look_ahead_mask(x):\n",
        "  seq_len = tf.shape(x)[1]\n",
        "  look_ahead_mask = 1 - tf.linalg.band_part(tf.ones((seq_len, seq_len)), -1, 0)\n",
        "  padding_mask = create_padding_mask(x) # 패딩 마스크도 포함\n",
        "  return tf.maximum(look_ahead_mask, padding_mask)"
      ],
      "metadata": {
        "id": "8NIdPaGQ68zE"
      },
      "execution_count": 10,
      "outputs": []
    },
    {
      "cell_type": "code",
      "source": [
        "def transformer(vocab_size, num_layers, dff,\n",
        "                d_model, num_heads, dropout,\n",
        "                name=\"transformer\"):\n",
        "\n",
        "  # 인코더의 입력\n",
        "  inputs = tf.keras.Input(shape=(None,), name=\"inputs\")\n",
        "\n",
        "  # 디코더의 입력\n",
        "  dec_inputs = tf.keras.Input(shape=(None,), name=\"dec_inputs\")\n",
        "\n",
        "  # 인코더의 패딩 마스크\n",
        "  enc_padding_mask = tf.keras.layers.Lambda(\n",
        "      create_padding_mask, output_shape=(1, 1, None),\n",
        "      name='enc_padding_mask')(inputs)\n",
        "\n",
        "  # 디코더의 룩어헤드 마스크(첫번째 서브층)\n",
        "  look_ahead_mask = tf.keras.layers.Lambda(\n",
        "      create_look_ahead_mask, output_shape=(1, None, None),\n",
        "      name='look_ahead_mask')(dec_inputs)\n",
        "\n",
        "  # 디코더의 패딩 마스크(두번째 서브층)\n",
        "  dec_padding_mask = tf.keras.layers.Lambda(\n",
        "      create_padding_mask, output_shape=(1, 1, None),\n",
        "      name='dec_padding_mask')(inputs)\n",
        "\n",
        "  # 인코더의 출력은 enc_outputs. 디코더로 전달된다.\n",
        "  enc_outputs = encoder(vocab_size=vocab_size, num_layers=num_layers, dff=dff,\n",
        "      d_model=d_model, num_heads=num_heads, dropout=dropout,\n",
        "  )(inputs=[inputs, enc_padding_mask]) # 인코더의 입력은 입력 문장과 패딩 마스크\n",
        "\n",
        "  # 디코더의 출력은 dec_outputs. 출력층으로 전달된다.\n",
        "  dec_outputs = decoder(vocab_size=vocab_size, num_layers=num_layers, dff=dff,\n",
        "      d_model=d_model, num_heads=num_heads, dropout=dropout,\n",
        "  )(inputs=[dec_inputs, enc_outputs, look_ahead_mask, dec_padding_mask])\n",
        "\n",
        "  # 다음 단어 예측을 위한 출력층\n",
        "  outputs = tf.keras.layers.Dense(units=vocab_size, name=\"outputs\")(dec_outputs)\n",
        "\n",
        "  return tf.keras.Model(inputs=[inputs, dec_inputs], outputs=outputs, name=name)"
      ],
      "metadata": {
        "id": "ys-GCm9t6ca1"
      },
      "execution_count": 11,
      "outputs": []
    },
    {
      "cell_type": "code",
      "source": [
        "class CustomSchedule(tf.keras.optimizers.schedules.LearningRateSchedule):\n",
        "\n",
        "  def __init__(self, d_model, warmup_steps=4000):\n",
        "    super(CustomSchedule, self).__init__()\n",
        "    self.d_model = d_model\n",
        "    self.d_model = tf.cast(self.d_model, tf.float32)\n",
        "    self.warmup_steps = warmup_steps\n",
        "\n",
        "  def __call__(self, step):\n",
        "    arg1 = tf.math.rsqrt(step)\n",
        "    arg2 = step * (self.warmup_steps**-1.5)\n",
        "\n",
        "    return tf.math.rsqrt(self.d_model) * tf.math.minimum(arg1, arg2)"
      ],
      "metadata": {
        "id": "sEoVw0qq7wGZ"
      },
      "execution_count": 12,
      "outputs": []
    },
    {
      "cell_type": "code",
      "source": [
        "def loss_function(y_true, y_pred):\n",
        "  y_true = tf.reshape(y_true, shape=(-1, MAX_LENGTH - 1))\n",
        "\n",
        "  loss = tf.keras.losses.SparseCategoricalCrossentropy(\n",
        "      from_logits=True, reduction='none')(y_true, y_pred)\n",
        "\n",
        "  mask = tf.cast(tf.not_equal(y_true, 0), tf.float32)\n",
        "  loss = tf.multiply(loss, mask)\n",
        "\n",
        "  return tf.reduce_mean(loss)"
      ],
      "metadata": {
        "id": "JSLq57Tm8CUS"
      },
      "execution_count": 13,
      "outputs": []
    },
    {
      "cell_type": "markdown",
      "source": [
        "# 챗봇 구현"
      ],
      "metadata": {
        "id": "YR-ZFEYR5wWr"
      }
    },
    {
      "cell_type": "code",
      "source": [
        "!git clone https://github.com/VriskaSerket51/idbot"
      ],
      "metadata": {
        "colab": {
          "base_uri": "https://localhost:8080/"
        },
        "id": "Gx_bFsP4ufug",
        "outputId": "a8388b5a-d728-46e4-c79a-eaefa3a0fa35"
      },
      "execution_count": 14,
      "outputs": [
        {
          "output_type": "stream",
          "name": "stdout",
          "text": [
            "Cloning into 'idbot'...\n",
            "remote: Enumerating objects: 73, done.\u001b[K\n",
            "remote: Counting objects: 100% (73/73), done.\u001b[K\n",
            "remote: Compressing objects: 100% (64/64), done.\u001b[K\n",
            "remote: Total 73 (delta 36), reused 30 (delta 8), pack-reused 0\u001b[K\n",
            "Unpacking objects: 100% (73/73), done.\n"
          ]
        }
      ]
    },
    {
      "cell_type": "code",
      "source": [
        "data = pd.read_csv('idbot/ChatBotData.csv')\n",
        "data.tail()"
      ],
      "metadata": {
        "colab": {
          "base_uri": "https://localhost:8080/",
          "height": 206
        },
        "id": "v8Q3duBdzVYy",
        "outputId": "08ffc30c-3f47-4aff-fb91-0bd08547da51"
      },
      "execution_count": 15,
      "outputs": [
        {
          "output_type": "execute_result",
          "data": {
            "text/plain": [
              "                       Q       A  Rule?  used\n",
              "9202  이번 달 남은 행사가 뭐가 있어?  <Rule>     14     1\n",
              "9203           남은 행사 보여줘  <Rule>     14     1\n",
              "9204         남은 학사일정 있어?  <Rule>     14     1\n",
              "9205           학사일정표 보여줘  <Rule>     14     1\n",
              "9206           남은 일정 있지?  <Rule>     14     1"
            ],
            "text/html": [
              "\n",
              "  <div id=\"df-99210660-8b2a-4d5f-9f58-1efaed0616f5\">\n",
              "    <div class=\"colab-df-container\">\n",
              "      <div>\n",
              "<style scoped>\n",
              "    .dataframe tbody tr th:only-of-type {\n",
              "        vertical-align: middle;\n",
              "    }\n",
              "\n",
              "    .dataframe tbody tr th {\n",
              "        vertical-align: top;\n",
              "    }\n",
              "\n",
              "    .dataframe thead th {\n",
              "        text-align: right;\n",
              "    }\n",
              "</style>\n",
              "<table border=\"1\" class=\"dataframe\">\n",
              "  <thead>\n",
              "    <tr style=\"text-align: right;\">\n",
              "      <th></th>\n",
              "      <th>Q</th>\n",
              "      <th>A</th>\n",
              "      <th>Rule?</th>\n",
              "      <th>used</th>\n",
              "    </tr>\n",
              "  </thead>\n",
              "  <tbody>\n",
              "    <tr>\n",
              "      <th>9202</th>\n",
              "      <td>이번 달 남은 행사가 뭐가 있어?</td>\n",
              "      <td>&lt;Rule&gt;</td>\n",
              "      <td>14</td>\n",
              "      <td>1</td>\n",
              "    </tr>\n",
              "    <tr>\n",
              "      <th>9203</th>\n",
              "      <td>남은 행사 보여줘</td>\n",
              "      <td>&lt;Rule&gt;</td>\n",
              "      <td>14</td>\n",
              "      <td>1</td>\n",
              "    </tr>\n",
              "    <tr>\n",
              "      <th>9204</th>\n",
              "      <td>남은 학사일정 있어?</td>\n",
              "      <td>&lt;Rule&gt;</td>\n",
              "      <td>14</td>\n",
              "      <td>1</td>\n",
              "    </tr>\n",
              "    <tr>\n",
              "      <th>9205</th>\n",
              "      <td>학사일정표 보여줘</td>\n",
              "      <td>&lt;Rule&gt;</td>\n",
              "      <td>14</td>\n",
              "      <td>1</td>\n",
              "    </tr>\n",
              "    <tr>\n",
              "      <th>9206</th>\n",
              "      <td>남은 일정 있지?</td>\n",
              "      <td>&lt;Rule&gt;</td>\n",
              "      <td>14</td>\n",
              "      <td>1</td>\n",
              "    </tr>\n",
              "  </tbody>\n",
              "</table>\n",
              "</div>\n",
              "      <button class=\"colab-df-convert\" onclick=\"convertToInteractive('df-99210660-8b2a-4d5f-9f58-1efaed0616f5')\"\n",
              "              title=\"Convert this dataframe to an interactive table.\"\n",
              "              style=\"display:none;\">\n",
              "        \n",
              "  <svg xmlns=\"http://www.w3.org/2000/svg\" height=\"24px\"viewBox=\"0 0 24 24\"\n",
              "       width=\"24px\">\n",
              "    <path d=\"M0 0h24v24H0V0z\" fill=\"none\"/>\n",
              "    <path d=\"M18.56 5.44l.94 2.06.94-2.06 2.06-.94-2.06-.94-.94-2.06-.94 2.06-2.06.94zm-11 1L8.5 8.5l.94-2.06 2.06-.94-2.06-.94L8.5 2.5l-.94 2.06-2.06.94zm10 10l.94 2.06.94-2.06 2.06-.94-2.06-.94-.94-2.06-.94 2.06-2.06.94z\"/><path d=\"M17.41 7.96l-1.37-1.37c-.4-.4-.92-.59-1.43-.59-.52 0-1.04.2-1.43.59L10.3 9.45l-7.72 7.72c-.78.78-.78 2.05 0 2.83L4 21.41c.39.39.9.59 1.41.59.51 0 1.02-.2 1.41-.59l7.78-7.78 2.81-2.81c.8-.78.8-2.07 0-2.86zM5.41 20L4 18.59l7.72-7.72 1.47 1.35L5.41 20z\"/>\n",
              "  </svg>\n",
              "      </button>\n",
              "      \n",
              "  <style>\n",
              "    .colab-df-container {\n",
              "      display:flex;\n",
              "      flex-wrap:wrap;\n",
              "      gap: 12px;\n",
              "    }\n",
              "\n",
              "    .colab-df-convert {\n",
              "      background-color: #E8F0FE;\n",
              "      border: none;\n",
              "      border-radius: 50%;\n",
              "      cursor: pointer;\n",
              "      display: none;\n",
              "      fill: #1967D2;\n",
              "      height: 32px;\n",
              "      padding: 0 0 0 0;\n",
              "      width: 32px;\n",
              "    }\n",
              "\n",
              "    .colab-df-convert:hover {\n",
              "      background-color: #E2EBFA;\n",
              "      box-shadow: 0px 1px 2px rgba(60, 64, 67, 0.3), 0px 1px 3px 1px rgba(60, 64, 67, 0.15);\n",
              "      fill: #174EA6;\n",
              "    }\n",
              "\n",
              "    [theme=dark] .colab-df-convert {\n",
              "      background-color: #3B4455;\n",
              "      fill: #D2E3FC;\n",
              "    }\n",
              "\n",
              "    [theme=dark] .colab-df-convert:hover {\n",
              "      background-color: #434B5C;\n",
              "      box-shadow: 0px 1px 3px 1px rgba(0, 0, 0, 0.15);\n",
              "      filter: drop-shadow(0px 1px 2px rgba(0, 0, 0, 0.3));\n",
              "      fill: #FFFFFF;\n",
              "    }\n",
              "  </style>\n",
              "\n",
              "      <script>\n",
              "        const buttonEl =\n",
              "          document.querySelector('#df-99210660-8b2a-4d5f-9f58-1efaed0616f5 button.colab-df-convert');\n",
              "        buttonEl.style.display =\n",
              "          google.colab.kernel.accessAllowed ? 'block' : 'none';\n",
              "\n",
              "        async function convertToInteractive(key) {\n",
              "          const element = document.querySelector('#df-99210660-8b2a-4d5f-9f58-1efaed0616f5');\n",
              "          const dataTable =\n",
              "            await google.colab.kernel.invokeFunction('convertToInteractive',\n",
              "                                                     [key], {});\n",
              "          if (!dataTable) return;\n",
              "\n",
              "          const docLinkHtml = 'Like what you see? Visit the ' +\n",
              "            '<a target=\"_blank\" href=https://colab.research.google.com/notebooks/data_table.ipynb>data table notebook</a>'\n",
              "            + ' to learn more about interactive tables.';\n",
              "          element.innerHTML = '';\n",
              "          dataTable['output_type'] = 'display_data';\n",
              "          await google.colab.output.renderOutput(dataTable, element);\n",
              "          const docLink = document.createElement('div');\n",
              "          docLink.innerHTML = docLinkHtml;\n",
              "          element.appendChild(docLink);\n",
              "        }\n",
              "      </script>\n",
              "    </div>\n",
              "  </div>\n",
              "  "
            ]
          },
          "metadata": {},
          "execution_count": 15
        }
      ]
    },
    {
      "cell_type": "code",
      "source": [
        "train_data=data[data['Rule?']==0]\n",
        "train_data.tail()"
      ],
      "metadata": {
        "colab": {
          "base_uri": "https://localhost:8080/",
          "height": 285
        },
        "id": "LzUYiajsxyh4",
        "outputId": "4a8b890b-d81b-45c4-c06a-ea8f23470617"
      },
      "execution_count": 16,
      "outputs": [
        {
          "output_type": "execute_result",
          "data": {
            "text/plain": [
              "                     Q                                 A  Rule?  used\n",
              "8885         영어할 줄알아?                               anyo      0     0\n",
              "8886               몰?                                  루      0     0\n",
              "8887         너는 몇살이니?                        저는 한 살 이에요.      0     0\n",
              "8888  23기 최고 잘생긴 사람은?                                김준수      0     1\n",
              "8889              안녕?    안녕하세요. 저는 이디저디 전담 챗봇 이디봇이라고 해요.      0     0"
            ],
            "text/html": [
              "\n",
              "  <div id=\"df-2eb48388-afe1-4e24-8899-6f54ab18f508\">\n",
              "    <div class=\"colab-df-container\">\n",
              "      <div>\n",
              "<style scoped>\n",
              "    .dataframe tbody tr th:only-of-type {\n",
              "        vertical-align: middle;\n",
              "    }\n",
              "\n",
              "    .dataframe tbody tr th {\n",
              "        vertical-align: top;\n",
              "    }\n",
              "\n",
              "    .dataframe thead th {\n",
              "        text-align: right;\n",
              "    }\n",
              "</style>\n",
              "<table border=\"1\" class=\"dataframe\">\n",
              "  <thead>\n",
              "    <tr style=\"text-align: right;\">\n",
              "      <th></th>\n",
              "      <th>Q</th>\n",
              "      <th>A</th>\n",
              "      <th>Rule?</th>\n",
              "      <th>used</th>\n",
              "    </tr>\n",
              "  </thead>\n",
              "  <tbody>\n",
              "    <tr>\n",
              "      <th>8885</th>\n",
              "      <td>영어할 줄알아?</td>\n",
              "      <td>anyo</td>\n",
              "      <td>0</td>\n",
              "      <td>0</td>\n",
              "    </tr>\n",
              "    <tr>\n",
              "      <th>8886</th>\n",
              "      <td>몰?</td>\n",
              "      <td>루</td>\n",
              "      <td>0</td>\n",
              "      <td>0</td>\n",
              "    </tr>\n",
              "    <tr>\n",
              "      <th>8887</th>\n",
              "      <td>너는 몇살이니?</td>\n",
              "      <td>저는 한 살 이에요.</td>\n",
              "      <td>0</td>\n",
              "      <td>0</td>\n",
              "    </tr>\n",
              "    <tr>\n",
              "      <th>8888</th>\n",
              "      <td>23기 최고 잘생긴 사람은?</td>\n",
              "      <td>김준수</td>\n",
              "      <td>0</td>\n",
              "      <td>1</td>\n",
              "    </tr>\n",
              "    <tr>\n",
              "      <th>8889</th>\n",
              "      <td>안녕?</td>\n",
              "      <td>안녕하세요. 저는 이디저디 전담 챗봇 이디봇이라고 해요.</td>\n",
              "      <td>0</td>\n",
              "      <td>0</td>\n",
              "    </tr>\n",
              "  </tbody>\n",
              "</table>\n",
              "</div>\n",
              "      <button class=\"colab-df-convert\" onclick=\"convertToInteractive('df-2eb48388-afe1-4e24-8899-6f54ab18f508')\"\n",
              "              title=\"Convert this dataframe to an interactive table.\"\n",
              "              style=\"display:none;\">\n",
              "        \n",
              "  <svg xmlns=\"http://www.w3.org/2000/svg\" height=\"24px\"viewBox=\"0 0 24 24\"\n",
              "       width=\"24px\">\n",
              "    <path d=\"M0 0h24v24H0V0z\" fill=\"none\"/>\n",
              "    <path d=\"M18.56 5.44l.94 2.06.94-2.06 2.06-.94-2.06-.94-.94-2.06-.94 2.06-2.06.94zm-11 1L8.5 8.5l.94-2.06 2.06-.94-2.06-.94L8.5 2.5l-.94 2.06-2.06.94zm10 10l.94 2.06.94-2.06 2.06-.94-2.06-.94-.94-2.06-.94 2.06-2.06.94z\"/><path d=\"M17.41 7.96l-1.37-1.37c-.4-.4-.92-.59-1.43-.59-.52 0-1.04.2-1.43.59L10.3 9.45l-7.72 7.72c-.78.78-.78 2.05 0 2.83L4 21.41c.39.39.9.59 1.41.59.51 0 1.02-.2 1.41-.59l7.78-7.78 2.81-2.81c.8-.78.8-2.07 0-2.86zM5.41 20L4 18.59l7.72-7.72 1.47 1.35L5.41 20z\"/>\n",
              "  </svg>\n",
              "      </button>\n",
              "      \n",
              "  <style>\n",
              "    .colab-df-container {\n",
              "      display:flex;\n",
              "      flex-wrap:wrap;\n",
              "      gap: 12px;\n",
              "    }\n",
              "\n",
              "    .colab-df-convert {\n",
              "      background-color: #E8F0FE;\n",
              "      border: none;\n",
              "      border-radius: 50%;\n",
              "      cursor: pointer;\n",
              "      display: none;\n",
              "      fill: #1967D2;\n",
              "      height: 32px;\n",
              "      padding: 0 0 0 0;\n",
              "      width: 32px;\n",
              "    }\n",
              "\n",
              "    .colab-df-convert:hover {\n",
              "      background-color: #E2EBFA;\n",
              "      box-shadow: 0px 1px 2px rgba(60, 64, 67, 0.3), 0px 1px 3px 1px rgba(60, 64, 67, 0.15);\n",
              "      fill: #174EA6;\n",
              "    }\n",
              "\n",
              "    [theme=dark] .colab-df-convert {\n",
              "      background-color: #3B4455;\n",
              "      fill: #D2E3FC;\n",
              "    }\n",
              "\n",
              "    [theme=dark] .colab-df-convert:hover {\n",
              "      background-color: #434B5C;\n",
              "      box-shadow: 0px 1px 3px 1px rgba(0, 0, 0, 0.15);\n",
              "      filter: drop-shadow(0px 1px 2px rgba(0, 0, 0, 0.3));\n",
              "      fill: #FFFFFF;\n",
              "    }\n",
              "  </style>\n",
              "\n",
              "      <script>\n",
              "        const buttonEl =\n",
              "          document.querySelector('#df-2eb48388-afe1-4e24-8899-6f54ab18f508 button.colab-df-convert');\n",
              "        buttonEl.style.display =\n",
              "          google.colab.kernel.accessAllowed ? 'block' : 'none';\n",
              "\n",
              "        async function convertToInteractive(key) {\n",
              "          const element = document.querySelector('#df-2eb48388-afe1-4e24-8899-6f54ab18f508');\n",
              "          const dataTable =\n",
              "            await google.colab.kernel.invokeFunction('convertToInteractive',\n",
              "                                                     [key], {});\n",
              "          if (!dataTable) return;\n",
              "\n",
              "          const docLinkHtml = 'Like what you see? Visit the ' +\n",
              "            '<a target=\"_blank\" href=https://colab.research.google.com/notebooks/data_table.ipynb>data table notebook</a>'\n",
              "            + ' to learn more about interactive tables.';\n",
              "          element.innerHTML = '';\n",
              "          dataTable['output_type'] = 'display_data';\n",
              "          await google.colab.output.renderOutput(dataTable, element);\n",
              "          const docLink = document.createElement('div');\n",
              "          docLink.innerHTML = docLinkHtml;\n",
              "          element.appendChild(docLink);\n",
              "        }\n",
              "      </script>\n",
              "    </div>\n",
              "  </div>\n",
              "  "
            ]
          },
          "metadata": {},
          "execution_count": 16
        }
      ]
    },
    {
      "cell_type": "code",
      "source": [
        "print('챗봇 샘플의 개수 :', len(train_data))"
      ],
      "metadata": {
        "colab": {
          "base_uri": "https://localhost:8080/"
        },
        "id": "KxN_LMwmzaAo",
        "outputId": "6a1962dd-33e1-4d73-b009-38c86b7b0413"
      },
      "execution_count": 17,
      "outputs": [
        {
          "output_type": "stream",
          "name": "stdout",
          "text": [
            "챗봇 샘플의 개수 : 8890\n"
          ]
        }
      ]
    },
    {
      "cell_type": "code",
      "source": [
        "questions = []\n",
        "for sentence in train_data['Q']:\n",
        "    # 구두점에 대해서 띄어쓰기\n",
        "    # ex) 12시 땡! -> 12시 땡 !\n",
        "    sentence = re.sub(r\"([?.!,])\", r\" \\1 \", sentence)\n",
        "    sentence = sentence.strip()\n",
        "    questions.append(sentence)"
      ],
      "metadata": {
        "id": "xh7q4yVxzjX5"
      },
      "execution_count": 18,
      "outputs": []
    },
    {
      "cell_type": "code",
      "source": [
        "answers = []\n",
        "for sentence in train_data['A']:\n",
        "    # 구두점에 대해서 띄어쓰기\n",
        "    # ex) 12시 땡! -> 12시 땡 !\n",
        "    sentence = re.sub(r\"([?.!,])\", r\" \\1 \", sentence)\n",
        "    sentence = sentence.strip()\n",
        "    answers.append(sentence)"
      ],
      "metadata": {
        "id": "HoDi45G4zlCn"
      },
      "execution_count": 19,
      "outputs": []
    },
    {
      "cell_type": "code",
      "source": [
        "print(questions[:5])\n",
        "print(answers[:5])"
      ],
      "metadata": {
        "colab": {
          "base_uri": "https://localhost:8080/"
        },
        "id": "w4EkSD01zmyn",
        "outputId": "cd9d3b96-04c8-4927-bf1f-ae8ed2d5b82c"
      },
      "execution_count": 20,
      "outputs": [
        {
          "output_type": "stream",
          "name": "stdout",
          "text": [
            "['12시 땡 !', '1지망 학교 떨어졌어', '3박4일 놀러가고 싶다', '3박4일 정도 놀러가고 싶다', 'PPL 심하네']\n",
            "['하루가 또 가네요 .', '위로해 드립니다 .', '여행은 언제나 좋죠 .', '여행은 언제나 좋죠 .', '눈살이 찌푸려지죠 .']\n"
          ]
        }
      ]
    },
    {
      "cell_type": "code",
      "source": [
        "Q=data[\"Q\"]\n",
        "A=data[\"A\"]\n",
        "s=Q\n",
        "sentences=[]\n",
        "for i in Q:\n",
        "  sentences.append(i)\n",
        "for i in A:\n",
        "  if i!=\"<Rule>\":\n",
        "    sentences.append(i)"
      ],
      "metadata": {
        "id": "leUvX5cn4SL8"
      },
      "execution_count": 21,
      "outputs": []
    },
    {
      "cell_type": "code",
      "source": [
        "print(sentences[-6:])"
      ],
      "metadata": {
        "id": "Uz8afgnE44Nc",
        "outputId": "417dc781-46d6-46d7-efdb-31db6b5012cb",
        "colab": {
          "base_uri": "https://localhost:8080/"
        }
      },
      "execution_count": 22,
      "outputs": [
        {
          "output_type": "stream",
          "name": "stdout",
          "text": [
            "[' 이디저디입니다. 민주적으로 뽑힌 이름이랍니다. 더 멋진 이름이 생각나면 학생회에 건의해보세요.', ' anyo', ' 루', ' 저는 한 살 이에요.', '김준수', ' 안녕하세요. 저는 이디저디 전담 챗봇 이디봇이라고 해요.']\n"
          ]
        }
      ]
    },
    {
      "cell_type": "code",
      "source": [
        "tokenizer = tfds.deprecated.text.SubwordTextEncoder.build_from_corpus(\n",
        "    sentences, target_vocab_size=2**13)"
      ],
      "metadata": {
        "id": "j9W_6clA0prF"
      },
      "execution_count": 23,
      "outputs": []
    },
    {
      "cell_type": "code",
      "source": [
        "# 시작 토큰과 종료 토큰에 대한 정수 부여.\n",
        "START_TOKEN, END_TOKEN = [tokenizer.vocab_size], [tokenizer.vocab_size + 1]\n",
        "\n",
        "# 시작 토큰과 종료 토큰을 고려하여 단어 집합의 크기를 + 2\n",
        "VOCAB_SIZE = tokenizer.vocab_size + 2"
      ],
      "metadata": {
        "id": "_Atk1ZwT0wJW"
      },
      "execution_count": 24,
      "outputs": []
    },
    {
      "cell_type": "code",
      "source": [
        "print('시작 토큰 번호 :',START_TOKEN)\n",
        "print('종료 토큰 번호 :',END_TOKEN)\n",
        "print('단어 집합의 크기 :',VOCAB_SIZE)"
      ],
      "metadata": {
        "colab": {
          "base_uri": "https://localhost:8080/"
        },
        "id": "x84v0Bqf1CN_",
        "outputId": "37850436-211d-4774-a99c-dc05d83d3908"
      },
      "execution_count": 25,
      "outputs": [
        {
          "output_type": "stream",
          "name": "stdout",
          "text": [
            "시작 토큰 번호 : [8210]\n",
            "종료 토큰 번호 : [8211]\n",
            "단어 집합의 크기 : 8212\n"
          ]
        }
      ]
    },
    {
      "cell_type": "code",
      "source": [
        "# 서브워드텍스트인코더 토크나이저의 .encode()를 사용하여 텍스트 시퀀스를 정수 시퀀스로 변환.\n",
        "print('임의의 질문 샘플을 정수 인코딩 : {}'.format(tokenizer.encode(questions[20])))"
      ],
      "metadata": {
        "colab": {
          "base_uri": "https://localhost:8080/"
        },
        "id": "LiBQ3I7T1GpQ",
        "outputId": "58b035df-75e0-46e1-9a95-0794c667bd56"
      },
      "execution_count": 26,
      "outputs": [
        {
          "output_type": "stream",
          "name": "stdout",
          "text": [
            "임의의 질문 샘플을 정수 인코딩 : [7904, 4916, 284, 426, 5551, 893]\n"
          ]
        }
      ]
    },
    {
      "cell_type": "code",
      "source": [
        "# 서브워드텍스트인코더 토크나이저의 .encode()와 .decode() 테스트해보기\n",
        "# 임의의 입력 문장을 sample_string에 저장\n",
        "sample_string = questions[20]\n",
        "\n",
        "# encode() : 텍스트 시퀀스 --> 정수 시퀀스\n",
        "tokenized_string = tokenizer.encode(sample_string)\n",
        "print ('정수 인코딩 후의 문장 {}'.format(tokenized_string))\n",
        "\n",
        "# decode() : 정수 시퀀스 --> 텍스트 시퀀스\n",
        "original_string = tokenizer.decode(tokenized_string)\n",
        "print ('기존 문장: {}'.format(original_string))"
      ],
      "metadata": {
        "colab": {
          "base_uri": "https://localhost:8080/"
        },
        "id": "2ZEUJ2vD1K2Z",
        "outputId": "e4d4682e-5f4a-4e54-d547-bef46df913d7"
      },
      "execution_count": 27,
      "outputs": [
        {
          "output_type": "stream",
          "name": "stdout",
          "text": [
            "정수 인코딩 후의 문장 [7904, 4916, 284, 426, 5551, 893]\n",
            "기존 문장: 가스비 비싼데 감기 걸리겠어\n"
          ]
        }
      ]
    },
    {
      "cell_type": "code",
      "source": [
        "# 최대 길이를 40으로 정의\n",
        "MAX_LENGTH = 40\n",
        "\n",
        "# 토큰화 / 정수 인코딩 / 시작 토큰과 종료 토큰 추가 / 패딩\n",
        "def tokenize_and_filter(inputs, outputs):\n",
        "  tokenized_inputs, tokenized_outputs = [], []\n",
        "\n",
        "  for (sentence1, sentence2) in zip(inputs, outputs):\n",
        "    # encode(토큰화 + 정수 인코딩), 시작 토큰과 종료 토큰 추가\n",
        "    sentence1 = START_TOKEN + tokenizer.encode(sentence1) + END_TOKEN\n",
        "    sentence2 = START_TOKEN + tokenizer.encode(sentence2) + END_TOKEN\n",
        "\n",
        "    tokenized_inputs.append(sentence1)\n",
        "    tokenized_outputs.append(sentence2)\n",
        "\n",
        "  # 패딩\n",
        "  tokenized_inputs = tf.keras.preprocessing.sequence.pad_sequences(\n",
        "      tokenized_inputs, maxlen=MAX_LENGTH, padding='post')\n",
        "  tokenized_outputs = tf.keras.preprocessing.sequence.pad_sequences(\n",
        "      tokenized_outputs, maxlen=MAX_LENGTH, padding='post')\n",
        "\n",
        "  return tokenized_inputs, tokenized_outputs"
      ],
      "metadata": {
        "id": "d8yRu5wp25wo"
      },
      "execution_count": 28,
      "outputs": []
    },
    {
      "cell_type": "code",
      "source": [
        "questions, answers = tokenize_and_filter(questions, answers)"
      ],
      "metadata": {
        "id": "SHRQWd_A3j_v"
      },
      "execution_count": 29,
      "outputs": []
    },
    {
      "cell_type": "code",
      "source": [
        "# 텐서플로우 dataset을 이용하여 셔플(shuffle)을 수행하되, 배치 크기로 데이터를 묶는다.\n",
        "# 또한 이 과정에서 교사 강요(teacher forcing)을 사용하기 위해서 디코더의 입력과 실제값 시퀀스를 구성한다.\n",
        "BATCH_SIZE = 64\n",
        "BUFFER_SIZE = 20000\n",
        "\n",
        "# 디코더의 실제값 시퀀스에서는 시작 토큰을 제거해야 한다.\n",
        "dataset = tf.data.Dataset.from_tensor_slices((\n",
        "    {\n",
        "        'inputs': questions,\n",
        "        'dec_inputs': answers[:, :-1] # 디코더의 입력. 마지막 패딩 토큰이 제거된다.\n",
        "    },\n",
        "    {\n",
        "        'outputs': answers[:, 1:]  # 맨 처음 토큰이 제거된다. 다시 말해 시작 토큰이 제거된다.\n",
        "    },\n",
        "))\n",
        "\n",
        "dataset = dataset.cache()\n",
        "dataset = dataset.shuffle(BUFFER_SIZE)\n",
        "dataset = dataset.batch(BATCH_SIZE)\n",
        "dataset = dataset.prefetch(tf.data.experimental.AUTOTUNE)"
      ],
      "metadata": {
        "id": "zYPKVqLO3FBX"
      },
      "execution_count": 30,
      "outputs": []
    },
    {
      "cell_type": "code",
      "source": [
        "tf.keras.backend.clear_session()\n",
        "\n",
        "# 하이퍼파라미터\n",
        "D_MODEL = 256\n",
        "NUM_LAYERS = 2\n",
        "NUM_HEADS = 8\n",
        "DFF = 512\n",
        "DROPOUT = 0.1\n",
        "\n",
        "model = transformer(\n",
        "    vocab_size=VOCAB_SIZE,\n",
        "    num_layers=NUM_LAYERS,\n",
        "    dff=DFF,\n",
        "    d_model=D_MODEL,\n",
        "    num_heads=NUM_HEADS,\n",
        "    dropout=DROPOUT)"
      ],
      "metadata": {
        "colab": {
          "base_uri": "https://localhost:8080/"
        },
        "id": "McK3TnOm3uSN",
        "outputId": "6fb76db3-403e-442a-d8e8-82fa631921d4"
      },
      "execution_count": 31,
      "outputs": [
        {
          "output_type": "stream",
          "name": "stdout",
          "text": [
            "(1, 8212, 256)\n",
            "(1, 8212, 256)\n"
          ]
        }
      ]
    },
    {
      "cell_type": "code",
      "source": [
        "model.summary()"
      ],
      "metadata": {
        "colab": {
          "base_uri": "https://localhost:8080/"
        },
        "id": "W2OEePGU4n82",
        "outputId": "963fc6ca-31c4-4530-d467-6158d8786575"
      },
      "execution_count": 32,
      "outputs": [
        {
          "output_type": "stream",
          "name": "stdout",
          "text": [
            "Model: \"transformer\"\n",
            "__________________________________________________________________________________________________\n",
            " Layer (type)                   Output Shape         Param #     Connected to                     \n",
            "==================================================================================================\n",
            " inputs (InputLayer)            [(None, None)]       0           []                               \n",
            "                                                                                                  \n",
            " dec_inputs (InputLayer)        [(None, None)]       0           []                               \n",
            "                                                                                                  \n",
            " enc_padding_mask (Lambda)      (None, 1, 1, None)   0           ['inputs[0][0]']                 \n",
            "                                                                                                  \n",
            " encoder (Functional)           (None, None, 256)    3156480     ['inputs[0][0]',                 \n",
            "                                                                  'enc_padding_mask[0][0]']       \n",
            "                                                                                                  \n",
            " look_ahead_mask (Lambda)       (None, 1, None, Non  0           ['dec_inputs[0][0]']             \n",
            "                                e)                                                                \n",
            "                                                                                                  \n",
            " dec_padding_mask (Lambda)      (None, 1, 1, None)   0           ['inputs[0][0]']                 \n",
            "                                                                                                  \n",
            " decoder (Functional)           (None, None, 256)    3683840     ['dec_inputs[0][0]',             \n",
            "                                                                  'encoder[0][0]',                \n",
            "                                                                  'look_ahead_mask[0][0]',        \n",
            "                                                                  'dec_padding_mask[0][0]']       \n",
            "                                                                                                  \n",
            " outputs (Dense)                (None, None, 8212)   2110484     ['decoder[0][0]']                \n",
            "                                                                                                  \n",
            "==================================================================================================\n",
            "Total params: 8,950,804\n",
            "Trainable params: 8,950,804\n",
            "Non-trainable params: 0\n",
            "__________________________________________________________________________________________________\n"
          ]
        }
      ]
    },
    {
      "cell_type": "code",
      "source": [
        "learning_rate = CustomSchedule(D_MODEL)\n",
        "\n",
        "optimizer = tf.keras.optimizers.Adam(\n",
        "    learning_rate, beta_1=0.9, beta_2=0.98, epsilon=1e-9)\n",
        "\n",
        "def accuracy(y_true, y_pred):\n",
        "  # 레이블의 크기는 (batch_size, MAX_LENGTH - 1)\n",
        "  y_true = tf.reshape(y_true, shape=(-1, MAX_LENGTH - 1))\n",
        "  return tf.keras.metrics.sparse_categorical_accuracy(y_true, y_pred)\n",
        "\n",
        "model.compile(optimizer=optimizer, loss=loss_function, metrics=[accuracy])"
      ],
      "metadata": {
        "id": "hSm_iNpj7i0s"
      },
      "execution_count": 33,
      "outputs": []
    },
    {
      "cell_type": "code",
      "source": [
        "EPOCHS = 20\n",
        "model.fit(dataset, epochs=EPOCHS)"
      ],
      "metadata": {
        "id": "N_ejOedW8JZN",
        "colab": {
          "base_uri": "https://localhost:8080/"
        },
        "outputId": "e25e5286-d3fc-4e54-e75e-73bd50221855"
      },
      "execution_count": 34,
      "outputs": [
        {
          "output_type": "stream",
          "name": "stdout",
          "text": [
            "Epoch 1/20\n",
            "139/139 [==============================] - 17s 57ms/step - loss: 1.4277 - accuracy: 0.0259\n",
            "Epoch 2/20\n",
            "139/139 [==============================] - 8s 57ms/step - loss: 1.2222 - accuracy: 0.0489\n",
            "Epoch 3/20\n",
            "139/139 [==============================] - 8s 57ms/step - loss: 1.0330 - accuracy: 0.0496\n",
            "Epoch 4/20\n",
            "139/139 [==============================] - 8s 57ms/step - loss: 0.9253 - accuracy: 0.0515\n",
            "Epoch 5/20\n",
            "139/139 [==============================] - 8s 57ms/step - loss: 0.8613 - accuracy: 0.0556\n",
            "Epoch 6/20\n",
            "139/139 [==============================] - 8s 59ms/step - loss: 0.8065 - accuracy: 0.0586\n",
            "Epoch 7/20\n",
            "139/139 [==============================] - 9s 62ms/step - loss: 0.7535 - accuracy: 0.0626\n",
            "Epoch 8/20\n",
            "139/139 [==============================] - 8s 58ms/step - loss: 0.6968 - accuracy: 0.0689\n",
            "Epoch 9/20\n",
            "139/139 [==============================] - 8s 58ms/step - loss: 0.6351 - accuracy: 0.0761\n",
            "Epoch 10/20\n",
            "139/139 [==============================] - 8s 58ms/step - loss: 0.5680 - accuracy: 0.0841\n",
            "Epoch 11/20\n",
            "139/139 [==============================] - 8s 58ms/step - loss: 0.4969 - accuracy: 0.0929\n",
            "Epoch 12/20\n",
            "139/139 [==============================] - 8s 58ms/step - loss: 0.4249 - accuracy: 0.1021\n",
            "Epoch 13/20\n",
            "139/139 [==============================] - 8s 58ms/step - loss: 0.3529 - accuracy: 0.1121\n",
            "Epoch 14/20\n",
            "139/139 [==============================] - 8s 58ms/step - loss: 0.2844 - accuracy: 0.1215\n",
            "Epoch 15/20\n",
            "139/139 [==============================] - 8s 58ms/step - loss: 0.2214 - accuracy: 0.1311\n",
            "Epoch 16/20\n",
            "139/139 [==============================] - 8s 58ms/step - loss: 0.1661 - accuracy: 0.1399\n",
            "Epoch 17/20\n",
            "139/139 [==============================] - 8s 58ms/step - loss: 0.1219 - accuracy: 0.1473\n",
            "Epoch 18/20\n",
            "139/139 [==============================] - 8s 58ms/step - loss: 0.0864 - accuracy: 0.1534\n",
            "Epoch 19/20\n",
            "139/139 [==============================] - 8s 58ms/step - loss: 0.0605 - accuracy: 0.1581\n",
            "Epoch 20/20\n",
            "139/139 [==============================] - 8s 59ms/step - loss: 0.0421 - accuracy: 0.1611\n"
          ]
        },
        {
          "output_type": "execute_result",
          "data": {
            "text/plain": [
              "<keras.callbacks.History at 0x7f720c3b7a50>"
            ]
          },
          "metadata": {},
          "execution_count": 34
        }
      ]
    },
    {
      "cell_type": "code",
      "source": [
        "def preprocess_sentence(sentence):\n",
        "  # 단어와 구두점 사이에 공백 추가.\n",
        "  # ex) 12시 땡! -> 12시 땡 !\n",
        "  sentence = re.sub(r\"([?.!,])\", r\" \\1 \", sentence)\n",
        "  sentence = sentence.strip()\n",
        "  return sentence"
      ],
      "metadata": {
        "id": "QjUqCnYe8lRo"
      },
      "execution_count": 35,
      "outputs": []
    },
    {
      "cell_type": "code",
      "source": [
        "def evaluate(sentence):\n",
        "  # 입력 문장에 대한 전처리\n",
        "  sentence = preprocess_sentence(sentence)\n",
        "\n",
        "  # 입력 문장에 시작 토큰과 종료 토큰을 추가\n",
        "  sentence = tf.expand_dims(\n",
        "      START_TOKEN + tokenizer.encode(sentence) + END_TOKEN, axis=0)\n",
        "\n",
        "  output = tf.expand_dims(START_TOKEN, 0)\n",
        "\n",
        "  # 디코더의 예측 시작\n",
        "  for i in range(MAX_LENGTH):\n",
        "    predictions = model(inputs=[sentence, output], training=False)\n",
        "\n",
        "    # 현재 시점의 예측 단어를 받아온다.\n",
        "    predictions = predictions[:, -1:, :]\n",
        "    predicted_id = tf.cast(tf.argmax(predictions, axis=-1), tf.int32)\n",
        "\n",
        "    # 만약 현재 시점의 예측 단어가 종료 토큰이라면 예측을 중단\n",
        "    if tf.equal(predicted_id, END_TOKEN[0]):\n",
        "      break\n",
        "\n",
        "    # 현재 시점의 예측 단어를 output(출력)에 연결한다.\n",
        "    # output은 for문의 다음 루프에서 디코더의 입력이 된다.\n",
        "    output = tf.concat([output, predicted_id], axis=-1)\n",
        "\n",
        "  # 단어 예측이 모두 끝났다면 output을 리턴.\n",
        "  return tf.squeeze(output, axis=0)"
      ],
      "metadata": {
        "id": "wdeIVpMb8niI"
      },
      "execution_count": 36,
      "outputs": []
    },
    {
      "cell_type": "code",
      "source": [
        "def predict(sentence):\n",
        "  prediction = evaluate(sentence)\n",
        "\n",
        "  # prediction == 디코더가 리턴한 챗봇의 대답에 해당하는 정수 시퀀스\n",
        "  # tokenizer.decode()를 통해 정수 시퀀스를 문자열로 디코딩.\n",
        "  predicted_sentence = tokenizer.decode(\n",
        "      [i for i in prediction if i < tokenizer.vocab_size])\n",
        "\n",
        "  # print('Input: {}'.format(sentence))\n",
        "  # print('Output: {}'.format(predicted_sentence))\n",
        "\n",
        "  return predicted_sentence"
      ],
      "metadata": {
        "id": "nzEj44or8qPx"
      },
      "execution_count": 37,
      "outputs": []
    },
    {
      "cell_type": "code",
      "source": [
        "output = predict(\"내일 일본어 수행 있어.\")"
      ],
      "metadata": {
        "id": "vDBq0He58uIj"
      },
      "execution_count": 38,
      "outputs": []
    },
    {
      "cell_type": "code",
      "source": [
        "model.save_weights('transformer')"
      ],
      "metadata": {
        "id": "QGozTgUHC_1I"
      },
      "execution_count": 39,
      "outputs": []
    },
    {
      "cell_type": "code",
      "source": [
        "import pickle\n",
        "\n",
        "# saving\n",
        "with open('tokenizer.pickle', 'wb') as handle:\n",
        "    pickle.dump(tokenizer, handle, protocol=pickle.HIGHEST_PROTOCOL)"
      ],
      "metadata": {
        "id": "l60-zqNPG8Bk"
      },
      "execution_count": 40,
      "outputs": []
    },
    {
      "cell_type": "markdown",
      "source": [
        "# 텍스트 분류기"
      ],
      "metadata": {
        "id": "uth7odvPvno9"
      }
    },
    {
      "cell_type": "code",
      "source": [
        "data = pd.read_csv('idbot/ChatBotData.csv')\n",
        "train_data=data[[\"Q\",\"Rule?\"]]\n",
        "train_data.head()"
      ],
      "metadata": {
        "id": "-Mg3LK_Rvqj3",
        "outputId": "5a8f9dd9-f051-4d10-b9b0-811b7ccaa8a4",
        "colab": {
          "base_uri": "https://localhost:8080/",
          "height": 206
        }
      },
      "execution_count": 142,
      "outputs": [
        {
          "output_type": "execute_result",
          "data": {
            "text/plain": [
              "                 Q  Rule?\n",
              "0           12시 땡!      0\n",
              "1      1지망 학교 떨어졌어      0\n",
              "2     3박4일 놀러가고 싶다      0\n",
              "3  3박4일 정도 놀러가고 싶다      0\n",
              "4          PPL 심하네      0"
            ],
            "text/html": [
              "\n",
              "  <div id=\"df-1ddf248c-5ef3-4e8f-b85d-5eb17ee7eb07\">\n",
              "    <div class=\"colab-df-container\">\n",
              "      <div>\n",
              "<style scoped>\n",
              "    .dataframe tbody tr th:only-of-type {\n",
              "        vertical-align: middle;\n",
              "    }\n",
              "\n",
              "    .dataframe tbody tr th {\n",
              "        vertical-align: top;\n",
              "    }\n",
              "\n",
              "    .dataframe thead th {\n",
              "        text-align: right;\n",
              "    }\n",
              "</style>\n",
              "<table border=\"1\" class=\"dataframe\">\n",
              "  <thead>\n",
              "    <tr style=\"text-align: right;\">\n",
              "      <th></th>\n",
              "      <th>Q</th>\n",
              "      <th>Rule?</th>\n",
              "    </tr>\n",
              "  </thead>\n",
              "  <tbody>\n",
              "    <tr>\n",
              "      <th>0</th>\n",
              "      <td>12시 땡!</td>\n",
              "      <td>0</td>\n",
              "    </tr>\n",
              "    <tr>\n",
              "      <th>1</th>\n",
              "      <td>1지망 학교 떨어졌어</td>\n",
              "      <td>0</td>\n",
              "    </tr>\n",
              "    <tr>\n",
              "      <th>2</th>\n",
              "      <td>3박4일 놀러가고 싶다</td>\n",
              "      <td>0</td>\n",
              "    </tr>\n",
              "    <tr>\n",
              "      <th>3</th>\n",
              "      <td>3박4일 정도 놀러가고 싶다</td>\n",
              "      <td>0</td>\n",
              "    </tr>\n",
              "    <tr>\n",
              "      <th>4</th>\n",
              "      <td>PPL 심하네</td>\n",
              "      <td>0</td>\n",
              "    </tr>\n",
              "  </tbody>\n",
              "</table>\n",
              "</div>\n",
              "      <button class=\"colab-df-convert\" onclick=\"convertToInteractive('df-1ddf248c-5ef3-4e8f-b85d-5eb17ee7eb07')\"\n",
              "              title=\"Convert this dataframe to an interactive table.\"\n",
              "              style=\"display:none;\">\n",
              "        \n",
              "  <svg xmlns=\"http://www.w3.org/2000/svg\" height=\"24px\"viewBox=\"0 0 24 24\"\n",
              "       width=\"24px\">\n",
              "    <path d=\"M0 0h24v24H0V0z\" fill=\"none\"/>\n",
              "    <path d=\"M18.56 5.44l.94 2.06.94-2.06 2.06-.94-2.06-.94-.94-2.06-.94 2.06-2.06.94zm-11 1L8.5 8.5l.94-2.06 2.06-.94-2.06-.94L8.5 2.5l-.94 2.06-2.06.94zm10 10l.94 2.06.94-2.06 2.06-.94-2.06-.94-.94-2.06-.94 2.06-2.06.94z\"/><path d=\"M17.41 7.96l-1.37-1.37c-.4-.4-.92-.59-1.43-.59-.52 0-1.04.2-1.43.59L10.3 9.45l-7.72 7.72c-.78.78-.78 2.05 0 2.83L4 21.41c.39.39.9.59 1.41.59.51 0 1.02-.2 1.41-.59l7.78-7.78 2.81-2.81c.8-.78.8-2.07 0-2.86zM5.41 20L4 18.59l7.72-7.72 1.47 1.35L5.41 20z\"/>\n",
              "  </svg>\n",
              "      </button>\n",
              "      \n",
              "  <style>\n",
              "    .colab-df-container {\n",
              "      display:flex;\n",
              "      flex-wrap:wrap;\n",
              "      gap: 12px;\n",
              "    }\n",
              "\n",
              "    .colab-df-convert {\n",
              "      background-color: #E8F0FE;\n",
              "      border: none;\n",
              "      border-radius: 50%;\n",
              "      cursor: pointer;\n",
              "      display: none;\n",
              "      fill: #1967D2;\n",
              "      height: 32px;\n",
              "      padding: 0 0 0 0;\n",
              "      width: 32px;\n",
              "    }\n",
              "\n",
              "    .colab-df-convert:hover {\n",
              "      background-color: #E2EBFA;\n",
              "      box-shadow: 0px 1px 2px rgba(60, 64, 67, 0.3), 0px 1px 3px 1px rgba(60, 64, 67, 0.15);\n",
              "      fill: #174EA6;\n",
              "    }\n",
              "\n",
              "    [theme=dark] .colab-df-convert {\n",
              "      background-color: #3B4455;\n",
              "      fill: #D2E3FC;\n",
              "    }\n",
              "\n",
              "    [theme=dark] .colab-df-convert:hover {\n",
              "      background-color: #434B5C;\n",
              "      box-shadow: 0px 1px 3px 1px rgba(0, 0, 0, 0.15);\n",
              "      filter: drop-shadow(0px 1px 2px rgba(0, 0, 0, 0.3));\n",
              "      fill: #FFFFFF;\n",
              "    }\n",
              "  </style>\n",
              "\n",
              "      <script>\n",
              "        const buttonEl =\n",
              "          document.querySelector('#df-1ddf248c-5ef3-4e8f-b85d-5eb17ee7eb07 button.colab-df-convert');\n",
              "        buttonEl.style.display =\n",
              "          google.colab.kernel.accessAllowed ? 'block' : 'none';\n",
              "\n",
              "        async function convertToInteractive(key) {\n",
              "          const element = document.querySelector('#df-1ddf248c-5ef3-4e8f-b85d-5eb17ee7eb07');\n",
              "          const dataTable =\n",
              "            await google.colab.kernel.invokeFunction('convertToInteractive',\n",
              "                                                     [key], {});\n",
              "          if (!dataTable) return;\n",
              "\n",
              "          const docLinkHtml = 'Like what you see? Visit the ' +\n",
              "            '<a target=\"_blank\" href=https://colab.research.google.com/notebooks/data_table.ipynb>data table notebook</a>'\n",
              "            + ' to learn more about interactive tables.';\n",
              "          element.innerHTML = '';\n",
              "          dataTable['output_type'] = 'display_data';\n",
              "          await google.colab.output.renderOutput(dataTable, element);\n",
              "          const docLink = document.createElement('div');\n",
              "          docLink.innerHTML = docLinkHtml;\n",
              "          element.appendChild(docLink);\n",
              "        }\n",
              "      </script>\n",
              "    </div>\n",
              "  </div>\n",
              "  "
            ]
          },
          "metadata": {},
          "execution_count": 142
        }
      ]
    },
    {
      "cell_type": "code",
      "source": [
        "questions = []\n",
        "for sentence in train_data['Q']:\n",
        "    # 구두점에 대해서 띄어쓰기\n",
        "    # ex) 12시 땡! -> 12시 땡 !\n",
        "    sentence = re.sub(r\"([?.!,])\", r\" \\1 \", sentence)\n",
        "    sentence = sentence.strip()\n",
        "    questions.append(sentence)"
      ],
      "metadata": {
        "id": "do98qaTSyrne"
      },
      "execution_count": 143,
      "outputs": []
    },
    {
      "cell_type": "code",
      "source": [
        "questions[-1]"
      ],
      "metadata": {
        "id": "O7-jIRjhyu3W",
        "outputId": "1cd824a0-d7ac-4817-e161-488b98e42dff",
        "colab": {
          "base_uri": "https://localhost:8080/",
          "height": 35
        }
      },
      "execution_count": 144,
      "outputs": [
        {
          "output_type": "execute_result",
          "data": {
            "text/plain": [
              "'남은 일정 있지 ?'"
            ],
            "application/vnd.google.colaboratory.intrinsic+json": {
              "type": "string"
            }
          },
          "metadata": {},
          "execution_count": 144
        }
      ]
    },
    {
      "cell_type": "code",
      "source": [
        "answers = []\n",
        "for answer in train_data[\"Rule?\"]:\n",
        "  answers.append(answer)"
      ],
      "metadata": {
        "id": "QW_TcNJXzPOD"
      },
      "execution_count": 145,
      "outputs": []
    },
    {
      "cell_type": "code",
      "source": [
        "answers[-1]"
      ],
      "metadata": {
        "id": "t5blUsNozZQu",
        "outputId": "a648f042-9e83-4a76-d43c-ee45bbadf7d3",
        "colab": {
          "base_uri": "https://localhost:8080/"
        }
      },
      "execution_count": 146,
      "outputs": [
        {
          "output_type": "execute_result",
          "data": {
            "text/plain": [
              "14"
            ]
          },
          "metadata": {},
          "execution_count": 146
        }
      ]
    },
    {
      "cell_type": "code",
      "source": [
        "# 최대 길이를 40으로 정의\n",
        "MAX_LENGTH = 40\n",
        "\n",
        "# 토큰화 / 정수 인코딩 / 시작 토큰과 종료 토큰 추가 / 패딩\n",
        "def tokenize_for_class(inputs,outputs):\n",
        "  tokenized_inputs=[]\n",
        "\n",
        "  for sentence in inputs:\n",
        "    # encode(토큰화 + 정수 인코딩), 시작 토큰과 종료 토큰 추가\n",
        "    sentence = START_TOKEN + tokenizer.encode(sentence) + END_TOKEN\n",
        "\n",
        "    tokenized_inputs.append(sentence)\n",
        "\n",
        "  # 패딩\n",
        "  tokenized_inputs = tf.keras.preprocessing.sequence.pad_sequences(\n",
        "      tokenized_inputs, maxlen=MAX_LENGTH, padding='post')\n",
        "\n",
        "  return tokenized_inputs, outputs"
      ],
      "metadata": {
        "id": "gBAdlrlDwmsR"
      },
      "execution_count": 147,
      "outputs": []
    },
    {
      "cell_type": "code",
      "source": [
        "questions, answers = tokenize_for_class(questions,answers)"
      ],
      "metadata": {
        "id": "vyI2gFaFy4rH"
      },
      "execution_count": 148,
      "outputs": []
    },
    {
      "cell_type": "code",
      "source": [
        "# 텐서플로우 dataset을 이용하여 셔플(shuffle)을 수행하되, 배치 크기로 데이터를 묶는다.\n",
        "BATCH_SIZE = 64\n",
        "BUFFER_SIZE = 20000\n",
        "\n",
        "dataset = tf.data.Dataset.from_tensor_slices((questions,answers))\n",
        "\n",
        "dataset = dataset.cache()\n",
        "dataset = dataset.shuffle(BUFFER_SIZE)\n",
        "dataset = dataset.batch(BATCH_SIZE)\n",
        "dataset = dataset.prefetch(tf.data.experimental.AUTOTUNE)"
      ],
      "metadata": {
        "id": "Dq1mLN_3zfQV"
      },
      "execution_count": 149,
      "outputs": []
    },
    {
      "cell_type": "code",
      "source": [
        "questions[0]"
      ],
      "metadata": {
        "id": "HJGO-36T90zU",
        "outputId": "ed5f45b1-c28a-44b2-86c6-fefb93999825",
        "colab": {
          "base_uri": "https://localhost:8080/"
        }
      },
      "execution_count": 150,
      "outputs": [
        {
          "output_type": "execute_result",
          "data": {
            "text/plain": [
              "array([8210, 3970, 5200, 7986, 7987, 8211,    0,    0,    0,    0,    0,\n",
              "          0,    0,    0,    0,    0,    0,    0,    0,    0,    0,    0,\n",
              "          0,    0,    0,    0,    0,    0,    0,    0,    0,    0,    0,\n",
              "          0,    0,    0,    0,    0,    0,    0], dtype=int32)"
            ]
          },
          "metadata": {},
          "execution_count": 150
        }
      ]
    },
    {
      "cell_type": "code",
      "source": [
        "modelA = tf.keras.Sequential([\n",
        "        tf.keras.layers.Embedding(\n",
        "        input_dim=VOCAB_SIZE,\n",
        "        output_dim=64,\n",
        "        input_length = 40,\n",
        "        # Use masking to handle the variable sequence lengths\n",
        "        mask_zero=True),\n",
        "    tf.keras.layers.Bidirectional(tf.keras.layers.LSTM(64)),\n",
        "    tf.keras.layers.Dropout(0.1),\n",
        "    tf.keras.layers.Dense(64, activation='relu'),\n",
        "    tf.keras.layers.Dense(15, activation='softmax')\n",
        "])"
      ],
      "metadata": {
        "id": "2Vgcp3mWz9aS"
      },
      "execution_count": 151,
      "outputs": []
    },
    {
      "cell_type": "code",
      "source": [
        "modelA.compile(loss='sparse_categorical_crossentropy',optimizer='rmsprop',metrics=[\"accuracy\"])"
      ],
      "metadata": {
        "id": "xjHSSRDG0f_1"
      },
      "execution_count": 152,
      "outputs": []
    },
    {
      "cell_type": "code",
      "source": [
        "modelA.summary()"
      ],
      "metadata": {
        "id": "4ZvwgdkD_2qF",
        "outputId": "0cf9b520-f9aa-4d4d-d107-2e353c214321",
        "colab": {
          "base_uri": "https://localhost:8080/"
        }
      },
      "execution_count": 153,
      "outputs": [
        {
          "output_type": "stream",
          "name": "stdout",
          "text": [
            "Model: \"sequential_9\"\n",
            "_________________________________________________________________\n",
            " Layer (type)                Output Shape              Param #   \n",
            "=================================================================\n",
            " embedding_11 (Embedding)    (None, 40, 64)            525568    \n",
            "                                                                 \n",
            " bidirectional_12 (Bidirecti  (None, 128)              66048     \n",
            " onal)                                                           \n",
            "                                                                 \n",
            " dropout_19 (Dropout)        (None, 128)               0         \n",
            "                                                                 \n",
            " dense_53 (Dense)            (None, 64)                8256      \n",
            "                                                                 \n",
            " dense_54 (Dense)            (None, 15)                975       \n",
            "                                                                 \n",
            "=================================================================\n",
            "Total params: 600,847\n",
            "Trainable params: 600,847\n",
            "Non-trainable params: 0\n",
            "_________________________________________________________________\n"
          ]
        }
      ]
    },
    {
      "cell_type": "code",
      "source": [
        "modelB = tf.keras.Sequential([\n",
        "        tf.keras.layers.Embedding(\n",
        "        input_dim=VOCAB_SIZE,\n",
        "        output_dim=64,\n",
        "        input_length = 40,\n",
        "        # Use masking to handle the variable sequence lengths\n",
        "        mask_zero=True),\n",
        "    tf.keras.layers.Bidirectional(tf.keras.layers.LSTM(256)),\n",
        "    tf.keras.layers.Dropout(0.1),\n",
        "    tf.keras.layers.Dense(256, activation='relu'),\n",
        "    tf.keras.layers.Dense(15, activation='softmax')\n",
        "])"
      ],
      "metadata": {
        "id": "DY-1Nlu21k7D"
      },
      "execution_count": 154,
      "outputs": []
    },
    {
      "cell_type": "code",
      "source": [
        "modelB.compile(loss='sparse_categorical_crossentropy',optimizer='rmsprop',metrics=[\"accuracy\"])"
      ],
      "metadata": {
        "id": "TVZAco8814Rl"
      },
      "execution_count": 155,
      "outputs": []
    },
    {
      "cell_type": "code",
      "source": [
        "modelB.summary()"
      ],
      "metadata": {
        "colab": {
          "base_uri": "https://localhost:8080/"
        },
        "id": "C_FSSCKJ16Sa",
        "outputId": "c284721a-64cd-4a43-9370-821b37edf820"
      },
      "execution_count": 156,
      "outputs": [
        {
          "output_type": "stream",
          "name": "stdout",
          "text": [
            "Model: \"sequential_10\"\n",
            "_________________________________________________________________\n",
            " Layer (type)                Output Shape              Param #   \n",
            "=================================================================\n",
            " embedding_12 (Embedding)    (None, 40, 64)            525568    \n",
            "                                                                 \n",
            " bidirectional_13 (Bidirecti  (None, 512)              657408    \n",
            " onal)                                                           \n",
            "                                                                 \n",
            " dropout_20 (Dropout)        (None, 512)               0         \n",
            "                                                                 \n",
            " dense_55 (Dense)            (None, 256)               131328    \n",
            "                                                                 \n",
            " dense_56 (Dense)            (None, 15)                3855      \n",
            "                                                                 \n",
            "=================================================================\n",
            "Total params: 1,318,159\n",
            "Trainable params: 1,318,159\n",
            "Non-trainable params: 0\n",
            "_________________________________________________________________\n"
          ]
        }
      ]
    },
    {
      "cell_type": "code",
      "source": [
        "modelC = tf.keras.Sequential([\n",
        "        tf.keras.layers.Embedding(\n",
        "        input_dim=VOCAB_SIZE,\n",
        "        output_dim=64,\n",
        "        input_length = 40,\n",
        "        # Use masking to handle the variable sequence lengths\n",
        "        mask_zero=True),\n",
        "    tf.keras.layers.Bidirectional(tf.keras.layers.LSTM(64,return_sequences=True)),\n",
        "    tf.keras.layers.Bidirectional(tf.keras.layers.LSTM(64)),\n",
        "    tf.keras.layers.Dropout(0.1),\n",
        "    tf.keras.layers.Dense(64, activation='relu'),\n",
        "    tf.keras.layers.Dense(64, activation='relu'),\n",
        "    tf.keras.layers.Dense(15, activation='softmax')\n",
        "])"
      ],
      "metadata": {
        "id": "OxyKOjeQ2ADO"
      },
      "execution_count": 157,
      "outputs": []
    },
    {
      "cell_type": "code",
      "source": [
        "modelC.compile(loss='sparse_categorical_crossentropy',optimizer='rmsprop',metrics=[\"accuracy\"])"
      ],
      "metadata": {
        "id": "x6ADN67L2ML3"
      },
      "execution_count": 158,
      "outputs": []
    },
    {
      "cell_type": "code",
      "source": [
        "modelC.summary()"
      ],
      "metadata": {
        "colab": {
          "base_uri": "https://localhost:8080/"
        },
        "id": "i-tK7l4I2Olu",
        "outputId": "1b72c60c-1a5b-4b5d-a215-fb8a47fe3db2"
      },
      "execution_count": 159,
      "outputs": [
        {
          "output_type": "stream",
          "name": "stdout",
          "text": [
            "Model: \"sequential_11\"\n",
            "_________________________________________________________________\n",
            " Layer (type)                Output Shape              Param #   \n",
            "=================================================================\n",
            " embedding_13 (Embedding)    (None, 40, 64)            525568    \n",
            "                                                                 \n",
            " bidirectional_14 (Bidirecti  (None, 40, 128)          66048     \n",
            " onal)                                                           \n",
            "                                                                 \n",
            " bidirectional_15 (Bidirecti  (None, 128)              98816     \n",
            " onal)                                                           \n",
            "                                                                 \n",
            " dropout_21 (Dropout)        (None, 128)               0         \n",
            "                                                                 \n",
            " dense_57 (Dense)            (None, 64)                8256      \n",
            "                                                                 \n",
            " dense_58 (Dense)            (None, 64)                4160      \n",
            "                                                                 \n",
            " dense_59 (Dense)            (None, 15)                975       \n",
            "                                                                 \n",
            "=================================================================\n",
            "Total params: 703,823\n",
            "Trainable params: 703,823\n",
            "Non-trainable params: 0\n",
            "_________________________________________________________________\n"
          ]
        }
      ]
    },
    {
      "cell_type": "code",
      "source": [
        "earlystopping = tf.keras.callbacks.EarlyStopping(monitor='loss',  # 모니터 기준 설정 (val loss) \n",
        "                              patience=10,         # 10회 Epoch동안 개선되지 않는다면 종료\n",
        "                             )"
      ],
      "metadata": {
        "id": "zfFRzbcRTVdB"
      },
      "execution_count": 160,
      "outputs": []
    },
    {
      "cell_type": "code",
      "source": [
        "modelA.fit(dataset, epochs=50,callbacks=[earlystopping])"
      ],
      "metadata": {
        "id": "cm4pN9Xg9jOG",
        "outputId": "8bf7ad04-5232-4acf-81a2-0d4a99af78f1",
        "colab": {
          "base_uri": "https://localhost:8080/"
        }
      },
      "execution_count": 161,
      "outputs": [
        {
          "output_type": "stream",
          "name": "stdout",
          "text": [
            "Epoch 1/50\n",
            "144/144 [==============================] - 9s 13ms/step - loss: 0.3741 - accuracy: 0.9589\n",
            "Epoch 2/50\n",
            "144/144 [==============================] - 2s 13ms/step - loss: 0.1292 - accuracy: 0.9669\n",
            "Epoch 3/50\n",
            "144/144 [==============================] - 2s 12ms/step - loss: 0.1078 - accuracy: 0.9688\n",
            "Epoch 4/50\n",
            "144/144 [==============================] - 2s 13ms/step - loss: 0.0945 - accuracy: 0.9700\n",
            "Epoch 5/50\n",
            "144/144 [==============================] - 2s 13ms/step - loss: 0.0843 - accuracy: 0.9731\n",
            "Epoch 6/50\n",
            "144/144 [==============================] - 2s 13ms/step - loss: 0.0776 - accuracy: 0.9748\n",
            "Epoch 7/50\n",
            "144/144 [==============================] - 2s 13ms/step - loss: 0.0718 - accuracy: 0.9763\n",
            "Epoch 8/50\n",
            "144/144 [==============================] - 3s 20ms/step - loss: 0.0637 - accuracy: 0.9790\n",
            "Epoch 9/50\n",
            "144/144 [==============================] - 2s 13ms/step - loss: 0.0554 - accuracy: 0.9811\n",
            "Epoch 10/50\n",
            "144/144 [==============================] - 2s 13ms/step - loss: 0.0457 - accuracy: 0.9845\n",
            "Epoch 11/50\n",
            "144/144 [==============================] - 2s 13ms/step - loss: 0.0412 - accuracy: 0.9867\n",
            "Epoch 12/50\n",
            "144/144 [==============================] - 2s 13ms/step - loss: 0.0347 - accuracy: 0.9887\n",
            "Epoch 13/50\n",
            "144/144 [==============================] - 2s 13ms/step - loss: 0.0259 - accuracy: 0.9906\n",
            "Epoch 14/50\n",
            "144/144 [==============================] - 2s 13ms/step - loss: 0.0249 - accuracy: 0.9924\n",
            "Epoch 15/50\n",
            "144/144 [==============================] - 2s 13ms/step - loss: 0.0210 - accuracy: 0.9942\n",
            "Epoch 16/50\n",
            "144/144 [==============================] - 2s 13ms/step - loss: 0.0166 - accuracy: 0.9961\n",
            "Epoch 17/50\n",
            "144/144 [==============================] - 2s 13ms/step - loss: 0.0123 - accuracy: 0.9963\n",
            "Epoch 18/50\n",
            "144/144 [==============================] - 2s 13ms/step - loss: 0.0103 - accuracy: 0.9966\n",
            "Epoch 19/50\n",
            "144/144 [==============================] - 2s 13ms/step - loss: 0.0085 - accuracy: 0.9976\n",
            "Epoch 20/50\n",
            "144/144 [==============================] - 2s 13ms/step - loss: 0.0065 - accuracy: 0.9980\n",
            "Epoch 21/50\n",
            "144/144 [==============================] - 2s 13ms/step - loss: 0.0060 - accuracy: 0.9980\n",
            "Epoch 22/50\n",
            "144/144 [==============================] - 2s 13ms/step - loss: 0.0056 - accuracy: 0.9988\n",
            "Epoch 23/50\n",
            "144/144 [==============================] - 2s 14ms/step - loss: 0.0029 - accuracy: 0.9992\n",
            "Epoch 24/50\n",
            "144/144 [==============================] - 2s 13ms/step - loss: 0.0033 - accuracy: 0.9995\n",
            "Epoch 25/50\n",
            "144/144 [==============================] - 2s 13ms/step - loss: 0.0020 - accuracy: 0.9997\n",
            "Epoch 26/50\n",
            "144/144 [==============================] - 2s 13ms/step - loss: 0.0013 - accuracy: 0.9998\n",
            "Epoch 27/50\n",
            "144/144 [==============================] - 2s 12ms/step - loss: 0.0021 - accuracy: 0.9996\n",
            "Epoch 28/50\n",
            "144/144 [==============================] - 2s 12ms/step - loss: 4.9707e-04 - accuracy: 0.9999\n",
            "Epoch 29/50\n",
            "144/144 [==============================] - 2s 13ms/step - loss: 7.2959e-04 - accuracy: 0.9996\n",
            "Epoch 30/50\n",
            "144/144 [==============================] - 2s 12ms/step - loss: 5.9841e-04 - accuracy: 0.9999\n",
            "Epoch 31/50\n",
            "144/144 [==============================] - 2s 12ms/step - loss: 2.1995e-04 - accuracy: 1.0000\n",
            "Epoch 32/50\n",
            "144/144 [==============================] - 2s 12ms/step - loss: 0.0018 - accuracy: 0.9995\n",
            "Epoch 33/50\n",
            "144/144 [==============================] - 2s 12ms/step - loss: 6.4265e-04 - accuracy: 0.9998\n",
            "Epoch 34/50\n",
            "144/144 [==============================] - 2s 13ms/step - loss: 6.8664e-05 - accuracy: 1.0000\n",
            "Epoch 35/50\n",
            "144/144 [==============================] - 2s 12ms/step - loss: 1.2791e-04 - accuracy: 0.9999\n",
            "Epoch 36/50\n",
            "144/144 [==============================] - 2s 13ms/step - loss: 1.7873e-04 - accuracy: 0.9999\n",
            "Epoch 37/50\n",
            "144/144 [==============================] - 2s 13ms/step - loss: 0.0013 - accuracy: 0.9999\n",
            "Epoch 38/50\n",
            "144/144 [==============================] - 2s 13ms/step - loss: 3.1609e-06 - accuracy: 1.0000\n",
            "Epoch 39/50\n",
            "144/144 [==============================] - 2s 12ms/step - loss: 4.6497e-06 - accuracy: 1.0000\n",
            "Epoch 40/50\n",
            "144/144 [==============================] - 2s 12ms/step - loss: 6.1237e-05 - accuracy: 1.0000\n",
            "Epoch 41/50\n",
            "144/144 [==============================] - 2s 12ms/step - loss: 6.9226e-04 - accuracy: 0.9999\n",
            "Epoch 42/50\n",
            "144/144 [==============================] - 2s 12ms/step - loss: 8.6946e-06 - accuracy: 1.0000\n",
            "Epoch 43/50\n",
            "144/144 [==============================] - 3s 20ms/step - loss: 0.0012 - accuracy: 0.9998\n",
            "Epoch 44/50\n",
            "144/144 [==============================] - 2s 13ms/step - loss: 2.5944e-06 - accuracy: 1.0000\n",
            "Epoch 45/50\n",
            "144/144 [==============================] - 2s 12ms/step - loss: 4.1702e-04 - accuracy: 0.9999\n",
            "Epoch 46/50\n",
            "144/144 [==============================] - 2s 12ms/step - loss: 6.2301e-07 - accuracy: 1.0000\n",
            "Epoch 47/50\n",
            "144/144 [==============================] - 2s 12ms/step - loss: 5.1224e-07 - accuracy: 1.0000\n",
            "Epoch 48/50\n",
            "144/144 [==============================] - 2s 13ms/step - loss: 4.6333e-05 - accuracy: 1.0000\n",
            "Epoch 49/50\n",
            "144/144 [==============================] - 2s 16ms/step - loss: 9.5941e-04 - accuracy: 0.9999\n",
            "Epoch 50/50\n",
            "144/144 [==============================] - 2s 16ms/step - loss: 5.3122e-08 - accuracy: 1.0000\n"
          ]
        },
        {
          "output_type": "execute_result",
          "data": {
            "text/plain": [
              "<keras.callbacks.History at 0x7f715526c750>"
            ]
          },
          "metadata": {},
          "execution_count": 161
        }
      ]
    },
    {
      "cell_type": "code",
      "source": [
        "modelB.fit(dataset, epochs=50,callbacks=[earlystopping])"
      ],
      "metadata": {
        "colab": {
          "base_uri": "https://localhost:8080/"
        },
        "id": "lY-Oqc0C3W-w",
        "outputId": "54355bd4-f2db-4cbc-eab7-80c63f9d478a"
      },
      "execution_count": 162,
      "outputs": [
        {
          "output_type": "stream",
          "name": "stdout",
          "text": [
            "Epoch 1/50\n",
            "144/144 [==============================] - 9s 13ms/step - loss: 0.2658 - accuracy: 0.9594\n",
            "Epoch 2/50\n",
            "144/144 [==============================] - 2s 13ms/step - loss: 0.1189 - accuracy: 0.9681\n",
            "Epoch 3/50\n",
            "144/144 [==============================] - 2s 13ms/step - loss: 0.0990 - accuracy: 0.9705\n",
            "Epoch 4/50\n",
            "144/144 [==============================] - 2s 13ms/step - loss: 0.0851 - accuracy: 0.9733\n",
            "Epoch 5/50\n",
            "144/144 [==============================] - 2s 13ms/step - loss: 0.0748 - accuracy: 0.9745\n",
            "Epoch 6/50\n",
            "144/144 [==============================] - 2s 14ms/step - loss: 0.0628 - accuracy: 0.9794\n",
            "Epoch 7/50\n",
            "144/144 [==============================] - 2s 13ms/step - loss: 0.0466 - accuracy: 0.9857\n",
            "Epoch 8/50\n",
            "144/144 [==============================] - 2s 14ms/step - loss: 0.0337 - accuracy: 0.9891\n",
            "Epoch 9/50\n",
            "144/144 [==============================] - 2s 13ms/step - loss: 0.0212 - accuracy: 0.9942\n",
            "Epoch 10/50\n",
            "144/144 [==============================] - 2s 13ms/step - loss: 0.0196 - accuracy: 0.9951\n",
            "Epoch 11/50\n",
            "144/144 [==============================] - 2s 13ms/step - loss: 0.0103 - accuracy: 0.9964\n",
            "Epoch 12/50\n",
            "144/144 [==============================] - 2s 14ms/step - loss: 0.0103 - accuracy: 0.9979\n",
            "Epoch 13/50\n",
            "144/144 [==============================] - 2s 13ms/step - loss: 0.0051 - accuracy: 0.9982\n",
            "Epoch 14/50\n",
            "144/144 [==============================] - 2s 14ms/step - loss: 0.0067 - accuracy: 0.9987\n",
            "Epoch 15/50\n",
            "144/144 [==============================] - 2s 13ms/step - loss: 0.0035 - accuracy: 0.9989\n",
            "Epoch 16/50\n",
            "144/144 [==============================] - 2s 14ms/step - loss: 0.0032 - accuracy: 0.9990\n",
            "Epoch 17/50\n",
            "144/144 [==============================] - 2s 13ms/step - loss: 0.0024 - accuracy: 0.9993\n",
            "Epoch 18/50\n",
            "144/144 [==============================] - 2s 13ms/step - loss: 0.0022 - accuracy: 0.9993\n",
            "Epoch 19/50\n",
            "144/144 [==============================] - 2s 13ms/step - loss: 2.1772e-04 - accuracy: 0.9999\n",
            "Epoch 20/50\n",
            "144/144 [==============================] - 2s 13ms/step - loss: 0.0018 - accuracy: 0.9999\n",
            "Epoch 21/50\n",
            "144/144 [==============================] - 2s 14ms/step - loss: 0.0057 - accuracy: 0.9998\n",
            "Epoch 22/50\n",
            "144/144 [==============================] - 2s 14ms/step - loss: 0.0038 - accuracy: 0.9995\n",
            "Epoch 23/50\n",
            "144/144 [==============================] - 2s 13ms/step - loss: 0.0055 - accuracy: 0.9998\n",
            "Epoch 24/50\n",
            "144/144 [==============================] - 2s 13ms/step - loss: 8.2405e-05 - accuracy: 1.0000\n",
            "Epoch 25/50\n",
            "144/144 [==============================] - 2s 14ms/step - loss: 0.0014 - accuracy: 0.9999\n",
            "Epoch 26/50\n",
            "144/144 [==============================] - 2s 14ms/step - loss: 2.8083e-04 - accuracy: 0.9998\n",
            "Epoch 27/50\n",
            "144/144 [==============================] - 2s 13ms/step - loss: 3.6939e-08 - accuracy: 1.0000\n",
            "Epoch 28/50\n",
            "144/144 [==============================] - 2s 14ms/step - loss: 2.9222e-08 - accuracy: 1.0000\n",
            "Epoch 29/50\n",
            "144/144 [==============================] - 2s 14ms/step - loss: 7.3284e-09 - accuracy: 1.0000\n",
            "Epoch 30/50\n",
            "144/144 [==============================] - 2s 14ms/step - loss: 2.9262e-09 - accuracy: 1.0000\n",
            "Epoch 31/50\n",
            "144/144 [==============================] - 2s 14ms/step - loss: 2.5377e-09 - accuracy: 1.0000\n",
            "Epoch 32/50\n",
            "144/144 [==============================] - 2s 13ms/step - loss: 1.1006e-09 - accuracy: 1.0000\n",
            "Epoch 33/50\n",
            "144/144 [==============================] - 2s 14ms/step - loss: 1.3466e-09 - accuracy: 1.0000\n",
            "Epoch 34/50\n",
            "144/144 [==============================] - 2s 14ms/step - loss: 8.5455e-10 - accuracy: 1.0000\n",
            "Epoch 35/50\n",
            "144/144 [==============================] - 2s 14ms/step - loss: 6.4738e-10 - accuracy: 1.0000\n",
            "Epoch 36/50\n",
            "144/144 [==============================] - 2s 13ms/step - loss: 8.2865e-10 - accuracy: 1.0000\n",
            "Epoch 37/50\n",
            "144/144 [==============================] - 2s 13ms/step - loss: 9.4518e-10 - accuracy: 1.0000\n",
            "Epoch 38/50\n",
            "144/144 [==============================] - 2s 13ms/step - loss: 6.3444e-10 - accuracy: 1.0000\n",
            "Epoch 39/50\n",
            "144/144 [==============================] - 2s 13ms/step - loss: 4.9201e-10 - accuracy: 1.0000\n",
            "Epoch 40/50\n",
            "144/144 [==============================] - 2s 14ms/step - loss: 4.2727e-10 - accuracy: 1.0000\n",
            "Epoch 41/50\n",
            "144/144 [==============================] - 2s 13ms/step - loss: 7.6391e-10 - accuracy: 1.0000\n",
            "Epoch 42/50\n",
            "144/144 [==============================] - 2s 13ms/step - loss: 3.1074e-10 - accuracy: 1.0000\n",
            "Epoch 43/50\n",
            "144/144 [==============================] - 2s 16ms/step - loss: 2.8485e-10 - accuracy: 1.0000\n",
            "Epoch 44/50\n",
            "144/144 [==============================] - 2s 16ms/step - loss: 6.9917e-10 - accuracy: 1.0000\n",
            "Epoch 45/50\n",
            "144/144 [==============================] - 2s 13ms/step - loss: 3.7548e-10 - accuracy: 1.0000\n",
            "Epoch 46/50\n",
            "144/144 [==============================] - 2s 13ms/step - loss: 5.4380e-10 - accuracy: 1.0000\n",
            "Epoch 47/50\n",
            "144/144 [==============================] - 2s 13ms/step - loss: 2.5895e-10 - accuracy: 1.0000\n",
            "Epoch 48/50\n",
            "144/144 [==============================] - 2s 14ms/step - loss: 2.5895e-10 - accuracy: 1.0000\n",
            "Epoch 49/50\n",
            "144/144 [==============================] - 2s 13ms/step - loss: 2.7190e-10 - accuracy: 1.0000\n",
            "Epoch 50/50\n",
            "144/144 [==============================] - 2s 13ms/step - loss: 3.7548e-10 - accuracy: 1.0000\n"
          ]
        },
        {
          "output_type": "execute_result",
          "data": {
            "text/plain": [
              "<keras.callbacks.History at 0x7f7156896b90>"
            ]
          },
          "metadata": {},
          "execution_count": 162
        }
      ]
    },
    {
      "cell_type": "code",
      "source": [
        "modelC.fit(dataset, epochs=50,callbacks=[earlystopping])"
      ],
      "metadata": {
        "colab": {
          "base_uri": "https://localhost:8080/"
        },
        "id": "aELlpQEx3ZGg",
        "outputId": "5cf910bc-8d98-4c68-a22b-329de68a67b8"
      },
      "execution_count": 163,
      "outputs": [
        {
          "output_type": "stream",
          "name": "stdout",
          "text": [
            "Epoch 1/50\n",
            "144/144 [==============================] - 17s 22ms/step - loss: 0.3418 - accuracy: 0.9587\n",
            "Epoch 2/50\n",
            "144/144 [==============================] - 3s 22ms/step - loss: 0.1308 - accuracy: 0.9674\n",
            "Epoch 3/50\n",
            "144/144 [==============================] - 3s 22ms/step - loss: 0.1055 - accuracy: 0.9687\n",
            "Epoch 4/50\n",
            "144/144 [==============================] - 3s 22ms/step - loss: 0.0961 - accuracy: 0.9706\n",
            "Epoch 5/50\n",
            "144/144 [==============================] - 3s 22ms/step - loss: 0.0868 - accuracy: 0.9727\n",
            "Epoch 6/50\n",
            "144/144 [==============================] - 3s 22ms/step - loss: 0.0766 - accuracy: 0.9743\n",
            "Epoch 7/50\n",
            "144/144 [==============================] - 3s 22ms/step - loss: 0.0710 - accuracy: 0.9755\n",
            "Epoch 8/50\n",
            "144/144 [==============================] - 3s 22ms/step - loss: 0.0660 - accuracy: 0.9768\n",
            "Epoch 9/50\n",
            "144/144 [==============================] - 3s 22ms/step - loss: 0.0603 - accuracy: 0.9784\n",
            "Epoch 10/50\n",
            "144/144 [==============================] - 3s 22ms/step - loss: 0.0548 - accuracy: 0.9802\n",
            "Epoch 11/50\n",
            "144/144 [==============================] - 3s 22ms/step - loss: 0.0529 - accuracy: 0.9821\n",
            "Epoch 12/50\n",
            "144/144 [==============================] - 3s 22ms/step - loss: 0.0457 - accuracy: 0.9844\n",
            "Epoch 13/50\n",
            "144/144 [==============================] - 3s 22ms/step - loss: 0.0404 - accuracy: 0.9858\n",
            "Epoch 14/50\n",
            "144/144 [==============================] - 3s 22ms/step - loss: 0.0339 - accuracy: 0.9884\n",
            "Epoch 15/50\n",
            "144/144 [==============================] - 3s 22ms/step - loss: 0.0276 - accuracy: 0.9907\n",
            "Epoch 16/50\n",
            "144/144 [==============================] - 3s 22ms/step - loss: 0.0225 - accuracy: 0.9930\n",
            "Epoch 17/50\n",
            "144/144 [==============================] - 3s 23ms/step - loss: 0.0157 - accuracy: 0.9954\n",
            "Epoch 18/50\n",
            "144/144 [==============================] - 3s 23ms/step - loss: 0.0139 - accuracy: 0.9954\n",
            "Epoch 19/50\n",
            "144/144 [==============================] - 3s 23ms/step - loss: 0.0099 - accuracy: 0.9972\n",
            "Epoch 20/50\n",
            "144/144 [==============================] - 3s 22ms/step - loss: 0.0056 - accuracy: 0.9980\n",
            "Epoch 21/50\n",
            "144/144 [==============================] - 3s 22ms/step - loss: 0.0062 - accuracy: 0.9982\n",
            "Epoch 22/50\n",
            "144/144 [==============================] - 3s 23ms/step - loss: 0.0029 - accuracy: 0.9992\n",
            "Epoch 23/50\n",
            "144/144 [==============================] - 4s 28ms/step - loss: 0.0032 - accuracy: 0.9989\n",
            "Epoch 24/50\n",
            "144/144 [==============================] - 4s 25ms/step - loss: 0.0034 - accuracy: 0.9992\n",
            "Epoch 25/50\n",
            "144/144 [==============================] - 3s 23ms/step - loss: 0.0014 - accuracy: 0.9996\n",
            "Epoch 26/50\n",
            "144/144 [==============================] - 3s 23ms/step - loss: 0.0053 - accuracy: 0.9990\n",
            "Epoch 27/50\n",
            "144/144 [==============================] - 3s 21ms/step - loss: 0.0031 - accuracy: 0.9996\n",
            "Epoch 28/50\n",
            "144/144 [==============================] - 3s 22ms/step - loss: 3.8775e-04 - accuracy: 0.9999\n",
            "Epoch 29/50\n",
            "144/144 [==============================] - 3s 22ms/step - loss: 0.0010 - accuracy: 0.9998\n",
            "Epoch 30/50\n",
            "144/144 [==============================] - 3s 22ms/step - loss: 3.1343e-04 - accuracy: 0.9999\n",
            "Epoch 31/50\n",
            "144/144 [==============================] - 3s 23ms/step - loss: 0.0010 - accuracy: 0.9997\n",
            "Epoch 32/50\n",
            "144/144 [==============================] - 3s 23ms/step - loss: 0.0023 - accuracy: 0.9997\n",
            "Epoch 33/50\n",
            "144/144 [==============================] - 3s 23ms/step - loss: 2.6322e-04 - accuracy: 0.9999\n",
            "Epoch 34/50\n",
            "144/144 [==============================] - 3s 22ms/step - loss: 1.3093e-06 - accuracy: 1.0000\n",
            "Epoch 35/50\n",
            "144/144 [==============================] - 3s 22ms/step - loss: 3.1725e-07 - accuracy: 1.0000\n",
            "Epoch 36/50\n",
            "144/144 [==============================] - 3s 22ms/step - loss: 0.0010 - accuracy: 0.9998\n",
            "Epoch 37/50\n",
            "144/144 [==============================] - 3s 22ms/step - loss: 2.9815e-04 - accuracy: 0.9999\n",
            "Epoch 38/50\n",
            "144/144 [==============================] - 3s 22ms/step - loss: 9.6094e-08 - accuracy: 1.0000\n",
            "Epoch 39/50\n",
            "144/144 [==============================] - 3s 21ms/step - loss: 8.5757e-08 - accuracy: 1.0000\n",
            "Epoch 40/50\n",
            "144/144 [==============================] - 3s 22ms/step - loss: 1.7826e-07 - accuracy: 1.0000\n",
            "Epoch 41/50\n",
            "144/144 [==============================] - 3s 22ms/step - loss: 1.2831e-08 - accuracy: 1.0000\n",
            "Epoch 42/50\n",
            "144/144 [==============================] - 3s 22ms/step - loss: 1.5926e-09 - accuracy: 1.0000\n",
            "Epoch 43/50\n",
            "144/144 [==============================] - 3s 22ms/step - loss: 1.4501e-09 - accuracy: 1.0000\n",
            "Epoch 44/50\n",
            "144/144 [==============================] - 3s 22ms/step - loss: 7.0315e-08 - accuracy: 1.0000\n",
            "Epoch 45/50\n",
            "144/144 [==============================] - 3s 22ms/step - loss: 1.1104e-04 - accuracy: 0.9999\n",
            "Epoch 46/50\n",
            "144/144 [==============================] - 3s 22ms/step - loss: 3.5873e-06 - accuracy: 1.0000\n",
            "Epoch 47/50\n",
            "144/144 [==============================] - 3s 22ms/step - loss: 7.9697e-08 - accuracy: 1.0000\n",
            "Epoch 48/50\n",
            "144/144 [==============================] - 3s 22ms/step - loss: 4.1691e-09 - accuracy: 1.0000\n",
            "Epoch 49/50\n",
            "144/144 [==============================] - 3s 22ms/step - loss: 1.1912e-09 - accuracy: 1.0000\n",
            "Epoch 50/50\n",
            "144/144 [==============================] - 3s 22ms/step - loss: 1.2041e-09 - accuracy: 1.0000\n"
          ]
        },
        {
          "output_type": "execute_result",
          "data": {
            "text/plain": [
              "<keras.callbacks.History at 0x7f714f05c210>"
            ]
          },
          "metadata": {},
          "execution_count": 163
        }
      ]
    },
    {
      "cell_type": "code",
      "source": [
        "data = pd.read_csv('idbot/TestData.csv',encoding='cp949')\n",
        "test_data=data[[\"Q\",\"Rule?\"]]\n",
        "test_data.tail()"
      ],
      "metadata": {
        "colab": {
          "base_uri": "https://localhost:8080/",
          "height": 206
        },
        "id": "C2MEtR_S6gR1",
        "outputId": "8c8331d6-20c8-4b59-ece0-68e5fafa10a7"
      },
      "execution_count": 164,
      "outputs": [
        {
          "output_type": "execute_result",
          "data": {
            "text/plain": [
              "                    Q  Rule?\n",
              "55          진수 변환기 할래     13\n",
              "56          6진수는 가능해?     13\n",
              "57   이번 주 학사일정 뭐가 있지?     14\n",
              "58  이번 달 행사가 좀 있지 않나?     14\n",
              "59        그거 언제 행사더라?     14"
            ],
            "text/html": [
              "\n",
              "  <div id=\"df-6f5b7b05-4202-455b-a893-7382dd30c773\">\n",
              "    <div class=\"colab-df-container\">\n",
              "      <div>\n",
              "<style scoped>\n",
              "    .dataframe tbody tr th:only-of-type {\n",
              "        vertical-align: middle;\n",
              "    }\n",
              "\n",
              "    .dataframe tbody tr th {\n",
              "        vertical-align: top;\n",
              "    }\n",
              "\n",
              "    .dataframe thead th {\n",
              "        text-align: right;\n",
              "    }\n",
              "</style>\n",
              "<table border=\"1\" class=\"dataframe\">\n",
              "  <thead>\n",
              "    <tr style=\"text-align: right;\">\n",
              "      <th></th>\n",
              "      <th>Q</th>\n",
              "      <th>Rule?</th>\n",
              "    </tr>\n",
              "  </thead>\n",
              "  <tbody>\n",
              "    <tr>\n",
              "      <th>55</th>\n",
              "      <td>진수 변환기 할래</td>\n",
              "      <td>13</td>\n",
              "    </tr>\n",
              "    <tr>\n",
              "      <th>56</th>\n",
              "      <td>6진수는 가능해?</td>\n",
              "      <td>13</td>\n",
              "    </tr>\n",
              "    <tr>\n",
              "      <th>57</th>\n",
              "      <td>이번 주 학사일정 뭐가 있지?</td>\n",
              "      <td>14</td>\n",
              "    </tr>\n",
              "    <tr>\n",
              "      <th>58</th>\n",
              "      <td>이번 달 행사가 좀 있지 않나?</td>\n",
              "      <td>14</td>\n",
              "    </tr>\n",
              "    <tr>\n",
              "      <th>59</th>\n",
              "      <td>그거 언제 행사더라?</td>\n",
              "      <td>14</td>\n",
              "    </tr>\n",
              "  </tbody>\n",
              "</table>\n",
              "</div>\n",
              "      <button class=\"colab-df-convert\" onclick=\"convertToInteractive('df-6f5b7b05-4202-455b-a893-7382dd30c773')\"\n",
              "              title=\"Convert this dataframe to an interactive table.\"\n",
              "              style=\"display:none;\">\n",
              "        \n",
              "  <svg xmlns=\"http://www.w3.org/2000/svg\" height=\"24px\"viewBox=\"0 0 24 24\"\n",
              "       width=\"24px\">\n",
              "    <path d=\"M0 0h24v24H0V0z\" fill=\"none\"/>\n",
              "    <path d=\"M18.56 5.44l.94 2.06.94-2.06 2.06-.94-2.06-.94-.94-2.06-.94 2.06-2.06.94zm-11 1L8.5 8.5l.94-2.06 2.06-.94-2.06-.94L8.5 2.5l-.94 2.06-2.06.94zm10 10l.94 2.06.94-2.06 2.06-.94-2.06-.94-.94-2.06-.94 2.06-2.06.94z\"/><path d=\"M17.41 7.96l-1.37-1.37c-.4-.4-.92-.59-1.43-.59-.52 0-1.04.2-1.43.59L10.3 9.45l-7.72 7.72c-.78.78-.78 2.05 0 2.83L4 21.41c.39.39.9.59 1.41.59.51 0 1.02-.2 1.41-.59l7.78-7.78 2.81-2.81c.8-.78.8-2.07 0-2.86zM5.41 20L4 18.59l7.72-7.72 1.47 1.35L5.41 20z\"/>\n",
              "  </svg>\n",
              "      </button>\n",
              "      \n",
              "  <style>\n",
              "    .colab-df-container {\n",
              "      display:flex;\n",
              "      flex-wrap:wrap;\n",
              "      gap: 12px;\n",
              "    }\n",
              "\n",
              "    .colab-df-convert {\n",
              "      background-color: #E8F0FE;\n",
              "      border: none;\n",
              "      border-radius: 50%;\n",
              "      cursor: pointer;\n",
              "      display: none;\n",
              "      fill: #1967D2;\n",
              "      height: 32px;\n",
              "      padding: 0 0 0 0;\n",
              "      width: 32px;\n",
              "    }\n",
              "\n",
              "    .colab-df-convert:hover {\n",
              "      background-color: #E2EBFA;\n",
              "      box-shadow: 0px 1px 2px rgba(60, 64, 67, 0.3), 0px 1px 3px 1px rgba(60, 64, 67, 0.15);\n",
              "      fill: #174EA6;\n",
              "    }\n",
              "\n",
              "    [theme=dark] .colab-df-convert {\n",
              "      background-color: #3B4455;\n",
              "      fill: #D2E3FC;\n",
              "    }\n",
              "\n",
              "    [theme=dark] .colab-df-convert:hover {\n",
              "      background-color: #434B5C;\n",
              "      box-shadow: 0px 1px 3px 1px rgba(0, 0, 0, 0.15);\n",
              "      filter: drop-shadow(0px 1px 2px rgba(0, 0, 0, 0.3));\n",
              "      fill: #FFFFFF;\n",
              "    }\n",
              "  </style>\n",
              "\n",
              "      <script>\n",
              "        const buttonEl =\n",
              "          document.querySelector('#df-6f5b7b05-4202-455b-a893-7382dd30c773 button.colab-df-convert');\n",
              "        buttonEl.style.display =\n",
              "          google.colab.kernel.accessAllowed ? 'block' : 'none';\n",
              "\n",
              "        async function convertToInteractive(key) {\n",
              "          const element = document.querySelector('#df-6f5b7b05-4202-455b-a893-7382dd30c773');\n",
              "          const dataTable =\n",
              "            await google.colab.kernel.invokeFunction('convertToInteractive',\n",
              "                                                     [key], {});\n",
              "          if (!dataTable) return;\n",
              "\n",
              "          const docLinkHtml = 'Like what you see? Visit the ' +\n",
              "            '<a target=\"_blank\" href=https://colab.research.google.com/notebooks/data_table.ipynb>data table notebook</a>'\n",
              "            + ' to learn more about interactive tables.';\n",
              "          element.innerHTML = '';\n",
              "          dataTable['output_type'] = 'display_data';\n",
              "          await google.colab.output.renderOutput(dataTable, element);\n",
              "          const docLink = document.createElement('div');\n",
              "          docLink.innerHTML = docLinkHtml;\n",
              "          element.appendChild(docLink);\n",
              "        }\n",
              "      </script>\n",
              "    </div>\n",
              "  </div>\n",
              "  "
            ]
          },
          "metadata": {},
          "execution_count": 164
        }
      ]
    },
    {
      "cell_type": "code",
      "source": [
        "qs = []\n",
        "for sentence in test_data['Q']:\n",
        "    # 구두점에 대해서 띄어쓰기\n",
        "    # ex) 12시 땡! -> 12시 땡 !\n",
        "    sentence = re.sub(r\"([?.!,])\", r\" \\1 \", sentence)\n",
        "    sentence = sentence.strip()\n",
        "    qs.append(sentence)"
      ],
      "metadata": {
        "id": "leoGuChq7r9O"
      },
      "execution_count": 165,
      "outputs": []
    },
    {
      "cell_type": "code",
      "source": [
        "ans = []\n",
        "for answer in test_data[\"Rule?\"]:\n",
        "  ans.append(answer)"
      ],
      "metadata": {
        "id": "4yHrG0Ko73-D"
      },
      "execution_count": 166,
      "outputs": []
    },
    {
      "cell_type": "code",
      "source": [
        "qs, ans = tokenize_for_class(qs,ans)"
      ],
      "metadata": {
        "id": "9-M3XC1K8BbT"
      },
      "execution_count": 167,
      "outputs": []
    },
    {
      "cell_type": "code",
      "source": [
        "BATCH_SIZE = 64\n",
        "BUFFER_SIZE = 20000\n",
        "\n",
        "test = tf.data.Dataset.from_tensor_slices((qs,ans))\n",
        "\n",
        "test = test.cache()\n",
        "test = test.batch(BATCH_SIZE)\n",
        "test = test.prefetch(tf.data.experimental.AUTOTUNE)"
      ],
      "metadata": {
        "id": "wxysj3ft8Gn8"
      },
      "execution_count": 168,
      "outputs": []
    },
    {
      "cell_type": "code",
      "source": [
        "modelA.evaluate(test)"
      ],
      "metadata": {
        "colab": {
          "base_uri": "https://localhost:8080/"
        },
        "id": "sgQ331RS8Ueb",
        "outputId": "7876499a-4dba-446c-a208-ebf70e255965"
      },
      "execution_count": 169,
      "outputs": [
        {
          "output_type": "stream",
          "name": "stdout",
          "text": [
            "1/1 [==============================] - 2s 2s/step - loss: 7.4035 - accuracy: 0.7000\n"
          ]
        },
        {
          "output_type": "execute_result",
          "data": {
            "text/plain": [
              "[7.403533458709717, 0.699999988079071]"
            ]
          },
          "metadata": {},
          "execution_count": 169
        }
      ]
    },
    {
      "cell_type": "code",
      "source": [
        "modelB.evaluate(test)"
      ],
      "metadata": {
        "colab": {
          "base_uri": "https://localhost:8080/"
        },
        "id": "kAkLxJ4q8xbU",
        "outputId": "5ad89bf7-fb22-4eaf-ee16-439135f0cdae"
      },
      "execution_count": 170,
      "outputs": [
        {
          "output_type": "stream",
          "name": "stdout",
          "text": [
            "1/1 [==============================] - 2s 2s/step - loss: 7.8306 - accuracy: 0.6833\n"
          ]
        },
        {
          "output_type": "execute_result",
          "data": {
            "text/plain": [
              "[7.830604076385498, 0.6833333373069763]"
            ]
          },
          "metadata": {},
          "execution_count": 170
        }
      ]
    },
    {
      "cell_type": "code",
      "source": [
        "modelC.evaluate(test)"
      ],
      "metadata": {
        "colab": {
          "base_uri": "https://localhost:8080/"
        },
        "id": "jvMFKdD6_JUG",
        "outputId": "24746b2d-2572-48b5-a58e-fab862529791"
      },
      "execution_count": 171,
      "outputs": [
        {
          "output_type": "stream",
          "name": "stdout",
          "text": [
            "1/1 [==============================] - 5s 5s/step - loss: 10.2613 - accuracy: 0.7333\n"
          ]
        },
        {
          "output_type": "execute_result",
          "data": {
            "text/plain": [
              "[10.261276245117188, 0.7333333492279053]"
            ]
          },
          "metadata": {},
          "execution_count": 171
        }
      ]
    },
    {
      "cell_type": "code",
      "source": [
        "def classify(sentence,model_classify):\n",
        "  sentence = [START_TOKEN + tokenizer.encode(sentence) + END_TOKEN]\n",
        "  sentence = tf.keras.preprocessing.sequence.pad_sequences(\n",
        "      sentence, maxlen=MAX_LENGTH, padding='post')\n",
        "  vec = model_classify.predict(sentence)\n",
        "  c = np.argmax(vec)\n",
        "  return c"
      ],
      "metadata": {
        "id": "HR94KVfdjtEK"
      },
      "execution_count": 172,
      "outputs": []
    },
    {
      "cell_type": "code",
      "source": [
        "classify(\"\",modelC)"
      ],
      "metadata": {
        "colab": {
          "base_uri": "https://localhost:8080/"
        },
        "id": "09a4jDVIkEBn",
        "outputId": "cc2ee6f3-8ecf-41dc-de6d-b7e23fb95ce1"
      },
      "execution_count": 173,
      "outputs": [
        {
          "output_type": "execute_result",
          "data": {
            "text/plain": [
              "0"
            ]
          },
          "metadata": {},
          "execution_count": 173
        }
      ]
    },
    {
      "cell_type": "code",
      "source": [
        "modelC.save(\"classifier.h5\")"
      ],
      "metadata": {
        "id": "fwlIMB_SW9yt"
      },
      "execution_count": 175,
      "outputs": []
    },
    {
      "cell_type": "markdown",
      "source": [
        "# 실사용용 챗봇을 구현해봐요"
      ],
      "metadata": {
        "id": "OU_KGU_1nEBC"
      }
    },
    {
      "cell_type": "code",
      "source": [
        "def chat(sentence):\n",
        "  k = classify(sentence,modelB)\n",
        "  if k==0:\n",
        "    return predict(sentence)\n",
        "  return k"
      ],
      "metadata": {
        "id": "22sMb6vqnIBB"
      },
      "execution_count": 176,
      "outputs": []
    },
    {
      "cell_type": "code",
      "source": [
        "print(\"이디봇: 저는 이디봇이고 너는 얘기를 해\")\n",
        "while(True):\n",
        "  \n",
        "  s = input(\"나: \")\n",
        "  if s==\"!종료\":\n",
        "    break\n",
        "  print(\"이디봇: \"+str(chat(s)))"
      ],
      "metadata": {
        "id": "HeVjHC9Vo5RU"
      },
      "execution_count": null,
      "outputs": []
    }
  ]
}